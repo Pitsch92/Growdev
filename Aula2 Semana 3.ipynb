{
 "cells": [
  {
   "cell_type": "markdown",
   "metadata": {},
   "source": [
    "![Growdev](https://www.growdev.com.br/assets/images/logo_growdev.png)"
   ]
  },
  {
   "cell_type": "markdown",
   "metadata": {},
   "source": [
    "![Formação Engenharia de Dados](https://d335luupugsy2.cloudfront.net/cms/files/524558/1707226566/$occu5m8t1op)"
   ]
  },
  {
   "cell_type": "markdown",
   "metadata": {},
   "source": [
    "# Tópicos da Aula de Hoje"
   ]
  },
  {
   "cell_type": "markdown",
   "metadata": {},
   "source": [
    "**Revisão de Python**:\n",
    "\n",
    "- Variáveis\n",
    "- Constantes\n",
    "- Tipos de variáveis\n",
    "- Operações Matemáticas\n",
    "- Strings\n",
    "- Prints\n",
    "- Input\n",
    "- Comparadores e Operadores Lógicos\n",
    "- Estruturas Condicionais\n",
    "- Loops (For e While)"
   ]
  },
  {
   "cell_type": "markdown",
   "metadata": {},
   "source": [
    "**Bora pra aula?**"
   ]
  },
  {
   "cell_type": "markdown",
   "metadata": {
    "id": "wwAg5f0EhnsE"
   },
   "source": [
    "# Variáveis"
   ]
  },
  {
   "cell_type": "markdown",
   "metadata": {
    "id": "VB4pGMudhnsF"
   },
   "source": [
    "Uma variável é um objeto que guarda um valor e armazena esse valor na memória do computador durante o tempo de desenvolvimento. Podemos inicializar uma variável por meio do comando de atribuição '='."
   ]
  },
  {
   "cell_type": "code",
   "execution_count": null,
   "metadata": {
    "id": "U68u-OcKhnsG"
   },
   "outputs": [],
   "source": [
    "# podemos definir uma variável dando um nome\n",
    "ano = 2020"
   ]
  },
  {
   "cell_type": "code",
   "execution_count": null,
   "metadata": {
    "colab": {
     "base_uri": "https://localhost:8080/"
    },
    "executionInfo": {
     "elapsed": 903,
     "status": "ok",
     "timestamp": 1614637098724,
     "user": {
      "displayName": "Abner Cardoso Rodrigues Neto",
      "photoUrl": "",
      "userId": "17964229224599879007"
     },
     "user_tz": 180
    },
    "id": "xUUBbhWEhnsJ",
    "outputId": "875dbf9c-3cee-41c9-8924-93b30bbe60a6"
   },
   "outputs": [
    {
     "name": "stdout",
     "output_type": "stream",
     "text": [
      "2020\n"
     ]
    }
   ],
   "source": [
    "# para imprimir a variável criada, utilizamos a função print\n",
    "print(ano)"
   ]
  },
  {
   "cell_type": "code",
   "execution_count": null,
   "metadata": {
    "colab": {
     "base_uri": "https://localhost:8080/"
    },
    "executionInfo": {
     "elapsed": 899,
     "status": "ok",
     "timestamp": 1614637151017,
     "user": {
      "displayName": "Abner Cardoso Rodrigues Neto",
      "photoUrl": "",
      "userId": "17964229224599879007"
     },
     "user_tz": 180
    },
    "id": "AUuTjflzhnsM",
    "outputId": "92ed3243-acb7-47eb-baaa-3d0637d3a972"
   },
   "outputs": [
    {
     "name": "stdout",
     "output_type": "stream",
     "text": [
      "2020\n",
      "2021\n"
     ]
    }
   ],
   "source": [
    "# Tem diferença?\n",
    "print(2020)\n",
    "ano = 2021\n",
    "print(ano)"
   ]
  },
  {
   "cell_type": "markdown",
   "metadata": {
    "id": "uW-v6Z3QhnsP"
   },
   "source": [
    "Ao utilizarmos variáveis, em vez de simplesmente escrever o valor que desejamos é que a variável nos traz a vantagem de ser, como o próprio nome já diz, variável. Dessa forma, podemos modificar a variável nos momentos que acharmos necessários.\n",
    "Em um código longo, se você utiliza o mesmo valor em diversas operações, é interessante que você o armazene como uma variável. Dessa maneira, caso você precise trocar o valor desejado, basta apenas mudá-lo uma única vez."
   ]
  },
  {
   "cell_type": "code",
   "execution_count": null,
   "metadata": {
    "colab": {
     "base_uri": "https://localhost:8080/"
    },
    "executionInfo": {
     "elapsed": 993,
     "status": "ok",
     "timestamp": 1614637233276,
     "user": {
      "displayName": "Abner Cardoso Rodrigues Neto",
      "photoUrl": "",
      "userId": "17964229224599879007"
     },
     "user_tz": 180
    },
    "id": "EUOuKejphnsQ",
    "outputId": "63cd287f-acd6-4164-cb55-331a2494042e"
   },
   "outputs": [
    {
     "name": "stdout",
     "output_type": "stream",
     "text": [
      "23\n",
      "24\n"
     ]
    }
   ],
   "source": [
    "idade = 23\n",
    "print(idade)\n",
    "idade = 24\n",
    "print(idade)\n"
   ]
  },
  {
   "cell_type": "markdown",
   "metadata": {
    "id": "9yOjVPkHhnsS"
   },
   "source": [
    "**ATENÇÃO!!:** \n",
    "* Nomes compostos de variáveis são separados por _. Esse método de nomeação é conhecido como snake case.\n",
    "* Nomes não podem começar com números, podem podem conter números\n",
    "* Se sua variável foi criada para armazenar um valor específico e que não muda, utilizamos letras maiúsculas.\n"
   ]
  },
  {
   "cell_type": "code",
   "execution_count": null,
   "metadata": {
    "id": "7C1eTQqByDFW"
   },
   "outputs": [],
   "source": [
    "# snake case\n",
    "idade_pai = 60\n",
    "paises_visitados = 90"
   ]
  },
  {
   "cell_type": "code",
   "execution_count": 4,
   "metadata": {
    "id": "tVvZjitEyDFY"
   },
   "outputs": [],
   "source": [
    "# Constantes\n",
    "PI = 3.14159"
   ]
  },
  {
   "cell_type": "markdown",
   "metadata": {
    "id": "SXe6KvUWhnsj"
   },
   "source": [
    "# Tipos de Variáveis"
   ]
  },
  {
   "cell_type": "markdown",
   "metadata": {
    "id": "Td8AzhSUhnsj"
   },
   "source": [
    "Em Python temos, basicamente, 4 tipos de variáveis: \n",
    "* Integer (int)\n",
    "* Float (float)\n",
    "* Strings (str)\n",
    "* Booleanos (bool)"
   ]
  },
  {
   "cell_type": "code",
   "execution_count": null,
   "metadata": {
    "colab": {
     "base_uri": "https://localhost:8080/"
    },
    "executionInfo": {
     "elapsed": 952,
     "status": "ok",
     "timestamp": 1614637548925,
     "user": {
      "displayName": "Abner Cardoso Rodrigues Neto",
      "photoUrl": "",
      "userId": "17964229224599879007"
     },
     "user_tz": 180
    },
    "id": "xTrfqPi7hnsk",
    "outputId": "ba15213b-1ee5-4ed7-b837-14df6d20b5b1"
   },
   "outputs": [
    {
     "data": {
      "text/plain": [
       "int"
      ]
     },
     "execution_count": 12,
     "metadata": {
      "tags": []
     },
     "output_type": "execute_result"
    }
   ],
   "source": [
    "# Inteiros são aqueles números usados para contar\n",
    "numero_laranjas = 10\n",
    "# Para consultar o tipo de uma variável\n",
    "type(numero_laranjas)"
   ]
  },
  {
   "cell_type": "code",
   "execution_count": null,
   "metadata": {
    "id": "VsUYEg98hnsm",
    "outputId": "5bf8c9b2-fbe4-4d4d-f5ce-468320e87434"
   },
   "outputs": [
    {
     "data": {
      "text/plain": [
       "float"
      ]
     },
     "execution_count": 21,
     "metadata": {
      "tags": []
     },
     "output_type": "execute_result"
    }
   ],
   "source": [
    "# Floats são os números decimais\n",
    "nota_prova = 9.5\n",
    "# Consultando o tipo\n",
    "***(nota_prova)"
   ]
  },
  {
   "cell_type": "code",
   "execution_count": null,
   "metadata": {
    "id": "1n0LWL3_hnso",
    "outputId": "f405e82f-fb36-46cb-e684-8580126f1e27"
   },
   "outputs": [
    {
     "data": {
      "text/plain": [
       "str"
      ]
     },
     "execution_count": 22,
     "metadata": {
      "tags": []
     },
     "output_type": "execute_result"
    }
   ],
   "source": [
    "# String são cadeias de caracteres\n",
    "nome_professor = 'Bruno'\n",
    "# Consultando o tipo\n",
    "type(****)"
   ]
  },
  {
   "cell_type": "code",
   "execution_count": null,
   "metadata": {
    "colab": {
     "base_uri": "https://localhost:8080/"
    },
    "executionInfo": {
     "elapsed": 835,
     "status": "ok",
     "timestamp": 1614614494151,
     "user": {
      "displayName": "Abner Cardoso Rodrigues Neto",
      "photoUrl": "",
      "userId": "17964229224599879007"
     },
     "user_tz": 180
    },
    "id": "z5uwHNl_hnsr",
    "outputId": "6e2f6e35-2ec1-45b1-b9e6-53104d62fceb"
   },
   "outputs": [
    {
     "data": {
      "text/plain": [
       "bool"
      ]
     },
     "execution_count": 2,
     "metadata": {
      "tags": []
     },
     "output_type": "execute_result"
    }
   ],
   "source": [
    "# booleanos geralmente guardam o resultado de uma operação lógica\n",
    "pele_maior_maradona = True\n",
    "# Consultando o tipo\n",
    "type(pele_maior_maradona)"
   ]
  },
  {
   "cell_type": "markdown",
   "metadata": {
    "id": "fsYCvdHwohGc"
   },
   "source": [
    "## str(), int() e float()"
   ]
  },
  {
   "cell_type": "code",
   "execution_count": null,
   "metadata": {
    "colab": {
     "base_uri": "https://localhost:8080/",
     "height": 35
    },
    "executionInfo": {
     "elapsed": 1026,
     "status": "ok",
     "timestamp": 1614637748501,
     "user": {
      "displayName": "Abner Cardoso Rodrigues Neto",
      "photoUrl": "",
      "userId": "17964229224599879007"
     },
     "user_tz": 180
    },
    "id": "BDzxyR2YomHa",
    "outputId": "da11cc31-4146-4b0e-bcd2-bcad8294485e"
   },
   "outputs": [
    {
     "data": {
      "application/vnd.google.colaboratory.intrinsic+json": {
       "type": "string"
      },
      "text/plain": [
       "'29'"
      ]
     },
     "execution_count": 14,
     "metadata": {
      "tags": []
     },
     "output_type": "execute_result"
    }
   ],
   "source": [
    "str(29)"
   ]
  },
  {
   "cell_type": "code",
   "execution_count": null,
   "metadata": {
    "colab": {
     "base_uri": "https://localhost:8080/"
    },
    "executionInfo": {
     "elapsed": 920,
     "status": "ok",
     "timestamp": 1614637759922,
     "user": {
      "displayName": "Abner Cardoso Rodrigues Neto",
      "photoUrl": "",
      "userId": "17964229224599879007"
     },
     "user_tz": 180
    },
    "id": "48JM2HB5oqAc",
    "outputId": "e1dec6da-734a-4905-ca72-a1bc4a058be6"
   },
   "outputs": [
    {
     "data": {
      "text/plain": [
       "str"
      ]
     },
     "execution_count": 15,
     "metadata": {
      "tags": []
     },
     "output_type": "execute_result"
    }
   ],
   "source": [
    "type(str(-3.14))"
   ]
  },
  {
   "cell_type": "code",
   "execution_count": null,
   "metadata": {
    "colab": {
     "base_uri": "https://localhost:8080/"
    },
    "executionInfo": {
     "elapsed": 905,
     "status": "ok",
     "timestamp": 1614637769184,
     "user": {
      "displayName": "Abner Cardoso Rodrigues Neto",
      "photoUrl": "",
      "userId": "17964229224599879007"
     },
     "user_tz": 180
    },
    "id": "-KOfV1p7o12f",
    "outputId": "011897a1-37a7-41d4-c29c-28e3c8ca13cf"
   },
   "outputs": [
    {
     "data": {
      "text/plain": [
       "7"
      ]
     },
     "execution_count": 16,
     "metadata": {
      "tags": []
     },
     "output_type": "execute_result"
    }
   ],
   "source": [
    "int('7')"
   ]
  },
  {
   "cell_type": "markdown",
   "metadata": {
    "id": "77FuxEXnhnst"
   },
   "source": [
    "# Operações Matemáticas"
   ]
  },
  {
   "cell_type": "markdown",
   "metadata": {
    "id": "MYkoij0Chnsu"
   },
   "source": [
    "**Ordem de execução**\n",
    "* Parênteses\n",
    "* Multiplicação e Divisão\n",
    "* Adição e Subtração"
   ]
  },
  {
   "cell_type": "markdown",
   "metadata": {
    "id": "OaqTzBN5hnsu"
   },
   "source": [
    "Com Python podemos realizar operações matemáticas. Com o uso das variáveis isso fica ainda mais poderoso."
   ]
  },
  {
   "cell_type": "code",
   "execution_count": null,
   "metadata": {
    "colab": {
     "base_uri": "https://localhost:8080/"
    },
    "executionInfo": {
     "elapsed": 902,
     "status": "ok",
     "timestamp": 1614637917373,
     "user": {
      "displayName": "Abner Cardoso Rodrigues Neto",
      "photoUrl": "",
      "userId": "17964229224599879007"
     },
     "user_tz": 180
    },
    "id": "7fiJD0buhnsv",
    "outputId": "f7fb5d67-4ca2-41e9-f988-739449fbe577"
   },
   "outputs": [
    {
     "data": {
      "text/plain": [
       "3.0"
      ]
     },
     "execution_count": 17,
     "metadata": {
      "tags": []
     },
     "output_type": "execute_result"
    }
   ],
   "source": [
    "# Qual resultado da expressão abaixo?\n",
    "1 + 3 * 4 / 3 - 2"
   ]
  },
  {
   "cell_type": "code",
   "execution_count": null,
   "metadata": {
    "colab": {
     "base_uri": "https://localhost:8080/"
    },
    "executionInfo": {
     "elapsed": 892,
     "status": "ok",
     "timestamp": 1614637935040,
     "user": {
      "displayName": "Abner Cardoso Rodrigues Neto",
      "photoUrl": "",
      "userId": "17964229224599879007"
     },
     "user_tz": 180
    },
    "id": "VA7Or_anhnsx",
    "outputId": "cbf36c32-bfcf-4b8e-991e-6e68ef62438b"
   },
   "outputs": [
    {
     "data": {
      "text/plain": [
       "16.0"
      ]
     },
     "execution_count": 18,
     "metadata": {
      "tags": []
     },
     "output_type": "execute_result"
    }
   ],
   "source": [
    "# Qual resultado da expressão abaixo?\n",
    "(1 + 3) * 4 / (3 - 2)"
   ]
  },
  {
   "cell_type": "markdown",
   "metadata": {
    "id": "fcfKYInHhns1"
   },
   "source": [
    "**Área do Círculo**"
   ]
  },
  {
   "cell_type": "markdown",
   "metadata": {
    "id": "vQdK8a15hns2"
   },
   "source": [
    "<img src=\"https://www.onlinemathlearning.com/image-files/area-of-circle.png\" height=350 width=500>"
   ]
  },
  {
   "cell_type": "code",
   "execution_count": 1,
   "metadata": {
    "colab": {
     "base_uri": "https://localhost:8080/"
    },
    "executionInfo": {
     "elapsed": 897,
     "status": "ok",
     "timestamp": 1614638028799,
     "user": {
      "displayName": "Abner Cardoso Rodrigues Neto",
      "photoUrl": "",
      "userId": "17964229224599879007"
     },
     "user_tz": 180
    },
    "id": "wVoC4PRPhns2",
    "outputId": "1409b308-02ce-4a4b-b058-b8e0b4150478"
   },
   "outputs": [
    {
     "ename": "SyntaxError",
     "evalue": "invalid syntax (<ipython-input-1-de6991d3327f>, line 4)",
     "output_type": "error",
     "traceback": [
      "\u001b[0;36m  File \u001b[0;32m\"<ipython-input-1-de6991d3327f>\"\u001b[0;36m, line \u001b[0;32m4\u001b[0m\n\u001b[0;31m    area = ??? # utilizamos o ** para potenciação\u001b[0m\n\u001b[0m           ^\u001b[0m\n\u001b[0;31mSyntaxError\u001b[0m\u001b[0;31m:\u001b[0m invalid syntax\n"
     ]
    }
   ],
   "source": [
    "# Área do Círculo\n",
    "PI = 3.14\n",
    "raio = 2\n",
    "area = ??? # utilizamos o ** para potenciação\n",
    "print(area)"
   ]
  },
  {
   "cell_type": "code",
   "execution_count": null,
   "metadata": {
    "colab": {
     "base_uri": "https://localhost:8080/"
    },
    "executionInfo": {
     "elapsed": 896,
     "status": "ok",
     "timestamp": 1614638050711,
     "user": {
      "displayName": "Abner Cardoso Rodrigues Neto",
      "photoUrl": "",
      "userId": "17964229224599879007"
     },
     "user_tz": 180
    },
    "id": "3dzsMc3Fhns4",
    "outputId": "b2d966ec-7bc8-45d8-ddd9-381f9cf39eef"
   },
   "outputs": [
    {
     "data": {
      "text/plain": [
       "3"
      ]
     },
     "execution_count": 21,
     "metadata": {
      "tags": []
     },
     "output_type": "execute_result"
    }
   ],
   "source": [
    "# Operador Resto\n",
    "19%8"
   ]
  },
  {
   "cell_type": "code",
   "execution_count": null,
   "metadata": {
    "colab": {
     "base_uri": "https://localhost:8080/"
    },
    "executionInfo": {
     "elapsed": 972,
     "status": "ok",
     "timestamp": 1614638082844,
     "user": {
      "displayName": "Abner Cardoso Rodrigues Neto",
      "photoUrl": "",
      "userId": "17964229224599879007"
     },
     "user_tz": 180
    },
    "id": "ILl8wpV5hns6",
    "outputId": "0961041b-de3a-4ca7-97bb-b71b48b055e3"
   },
   "outputs": [
    {
     "data": {
      "text/plain": [
       "4.0"
      ]
     },
     "execution_count": 22,
     "metadata": {
      "tags": []
     },
     "output_type": "execute_result"
    }
   ],
   "source": [
    "# Parte inteira da divisão\n",
    "20//4.5"
   ]
  },
  {
   "cell_type": "code",
   "execution_count": null,
   "metadata": {
    "colab": {
     "base_uri": "https://localhost:8080/"
    },
    "executionInfo": {
     "elapsed": 914,
     "status": "ok",
     "timestamp": 1614638108532,
     "user": {
      "displayName": "Abner Cardoso Rodrigues Neto",
      "photoUrl": "",
      "userId": "17964229224599879007"
     },
     "user_tz": 180
    },
    "id": "EuY5Gxp8hns9",
    "outputId": "34e2ae62-26e4-49ef-a464-f22c4cdf9a8c"
   },
   "outputs": [
    {
     "data": {
      "text/plain": [
       "4.444444444444445"
      ]
     },
     "execution_count": 23,
     "metadata": {
      "tags": []
     },
     "output_type": "execute_result"
    }
   ],
   "source": [
    "# O resultado da divisão seria\n",
    "20/4.5"
   ]
  },
  {
   "cell_type": "markdown",
   "metadata": {
    "id": "8gogjr_dhns_"
   },
   "source": [
    "# Strings"
   ]
  },
  {
   "cell_type": "markdown",
   "metadata": {
    "id": "m6LZ76u-hns_"
   },
   "source": [
    "Variáveis podem ser caracteres ou um conjunto deles (palavras e até frases inteiras)."
   ]
  },
  {
   "cell_type": "code",
   "execution_count": null,
   "metadata": {
    "id": "RdI7kjs1hns_"
   },
   "outputs": [],
   "source": [
    "# Aspas simples\n",
    "my_string_single_quote = 'Hello, World!'\n",
    "# Aspas duplas\n",
    "my_string_double_quote = \"Hello, World!\"\n",
    "# Aspas triplas\n",
    "multiline_string = \"\"\"\n",
    "                   Hello,\n",
    "                   World!\n",
    "\n",
    "                   \"\"\""
   ]
  },
  {
   "cell_type": "code",
   "execution_count": null,
   "metadata": {
    "colab": {
     "base_uri": "https://localhost:8080/"
    },
    "executionInfo": {
     "elapsed": 554,
     "status": "ok",
     "timestamp": 1614638205697,
     "user": {
      "displayName": "Abner Cardoso Rodrigues Neto",
      "photoUrl": "",
      "userId": "17964229224599879007"
     },
     "user_tz": 180
    },
    "id": "S8xtmJjKhntC",
    "outputId": "7343c6f1-6fa5-468c-f4de-e7e8d897fc71"
   },
   "outputs": [
    {
     "name": "stdout",
     "output_type": "stream",
     "text": [
      "Hello, World!\n"
     ]
    }
   ],
   "source": [
    "print(my_string_single_quote)"
   ]
  },
  {
   "cell_type": "code",
   "execution_count": null,
   "metadata": {
    "colab": {
     "base_uri": "https://localhost:8080/"
    },
    "executionInfo": {
     "elapsed": 904,
     "status": "ok",
     "timestamp": 1614638209139,
     "user": {
      "displayName": "Abner Cardoso Rodrigues Neto",
      "photoUrl": "",
      "userId": "17964229224599879007"
     },
     "user_tz": 180
    },
    "id": "UuqmwkNphntE",
    "outputId": "34533b9a-fbe0-48b4-facd-45c2866bec50"
   },
   "outputs": [
    {
     "name": "stdout",
     "output_type": "stream",
     "text": [
      "Hello, World!\n"
     ]
    }
   ],
   "source": [
    "print(my_string_double_quote)"
   ]
  },
  {
   "cell_type": "code",
   "execution_count": null,
   "metadata": {
    "colab": {
     "base_uri": "https://localhost:8080/"
    },
    "executionInfo": {
     "elapsed": 1434,
     "status": "ok",
     "timestamp": 1614638274782,
     "user": {
      "displayName": "Abner Cardoso Rodrigues Neto",
      "photoUrl": "",
      "userId": "17964229224599879007"
     },
     "user_tz": 180
    },
    "id": "ryY0V7HA8ErI",
    "outputId": "86521f24-2947-406d-c89a-2ecf9de67de8"
   },
   "outputs": [
    {
     "name": "stdout",
     "output_type": "stream",
     "text": [
      "\n",
      "                   Hello,\n",
      "                   World!\n",
      "\n",
      "                   \n"
     ]
    }
   ],
   "source": [
    "print(multiline_string)"
   ]
  },
  {
   "cell_type": "markdown",
   "metadata": {
    "id": "2_RFn_Z0hntG"
   },
   "source": [
    "Podemos fazer um fatiamento nas strings, selecionando apenas a parte que nos interessa."
   ]
  },
  {
   "cell_type": "markdown",
   "metadata": {
    "id": "laDJu94JhntH"
   },
   "source": [
    "**OBS**: O Python começa a contar do 0 e o último número não é incluído no fatiamento."
   ]
  },
  {
   "cell_type": "code",
   "execution_count": null,
   "metadata": {
    "colab": {
     "base_uri": "https://localhost:8080/"
    },
    "executionInfo": {
     "elapsed": 1443,
     "status": "ok",
     "timestamp": 1614638507727,
     "user": {
      "displayName": "Abner Cardoso Rodrigues Neto",
      "photoUrl": "",
      "userId": "17964229224599879007"
     },
     "user_tz": 180
    },
    "id": "WX4-KiozyDF6",
    "outputId": "c3f33004-7e31-476c-d62d-e4972bb0eda8"
   },
   "outputs": [
    {
     "name": "stdout",
     "output_type": "stream",
     "text": [
      "Digital House\n",
      "D\n",
      "git\n",
      "gital House\n",
      "Digital HouseDigital HouseDigital House\n"
     ]
    }
   ],
   "source": [
    "my_string = 'Digital House'\n",
    "\n",
    "print (my_string)          # imprime a string completa\n",
    "print (my_string[0])       # imprime o primeiro caracter da string\n",
    "print (my_string[2:5])     # imprime do terceiro ao quinto caractere\n",
    "print (my_string[2:])      # imprime os caracteres a partir do terceiro\n",
    "print (my_string * 3)      # imprime a string duas vezes"
   ]
  },
  {
   "cell_type": "code",
   "execution_count": null,
   "metadata": {
    "colab": {
     "base_uri": "https://localhost:8080/"
    },
    "executionInfo": {
     "elapsed": 935,
     "status": "ok",
     "timestamp": 1614638606649,
     "user": {
      "displayName": "Abner Cardoso Rodrigues Neto",
      "photoUrl": "",
      "userId": "17964229224599879007"
     },
     "user_tz": 180
    },
    "id": "LBw8TCgKyDGA",
    "outputId": "2a1ab942-95cc-4f02-83e4-312c801c950b"
   },
   "outputs": [
    {
     "name": "stdout",
     "output_type": "stream",
     "text": [
      "Digital House\n"
     ]
    }
   ],
   "source": [
    "# Podemos concatenar strings\n",
    "string1 = \"Digital\"\n",
    "string2 = \"House\"\n",
    "print(string1+' '+string2)"
   ]
  },
  {
   "cell_type": "code",
   "execution_count": null,
   "metadata": {
    "colab": {
     "base_uri": "https://localhost:8080/"
    },
    "executionInfo": {
     "elapsed": 1053,
     "status": "ok",
     "timestamp": 1614638623946,
     "user": {
      "displayName": "Abner Cardoso Rodrigues Neto",
      "photoUrl": "",
      "userId": "17964229224599879007"
     },
     "user_tz": 180
    },
    "id": "vxKaB5edn4WM",
    "outputId": "f335935d-f7cc-419e-b3ec-f012b5a6b789"
   },
   "outputs": [
    {
     "name": "stdout",
     "output_type": "stream",
     "text": [
      "13\n"
     ]
    }
   ],
   "source": [
    "# Tamanho de uma string usando len()\n",
    "print(len(my_string))"
   ]
  },
  {
   "cell_type": "markdown",
   "metadata": {
    "id": "5EY1ggdBhntL"
   },
   "source": [
    "# Prints"
   ]
  },
  {
   "cell_type": "code",
   "execution_count": null,
   "metadata": {
    "id": "eY8EZ8dUhntM"
   },
   "outputs": [],
   "source": [
    "# Variável Nome\n",
    "nome = 'Bruno'\n",
    "# Variável Idade\n",
    "idade = 23"
   ]
  },
  {
   "cell_type": "code",
   "execution_count": null,
   "metadata": {
    "colab": {
     "base_uri": "https://localhost:8080/"
    },
    "executionInfo": {
     "elapsed": 908,
     "status": "ok",
     "timestamp": 1614638908844,
     "user": {
      "displayName": "Abner Cardoso Rodrigues Neto",
      "photoUrl": "",
      "userId": "17964229224599879007"
     },
     "user_tz": 180
    },
    "id": "4KfOgYJ5hntP",
    "outputId": "409bb805-ca34-4e28-ef37-fe122d1a246d"
   },
   "outputs": [
    {
     "name": "stdout",
     "output_type": "stream",
     "text": [
      "Oi, meu nome é Bruno e eu tenho 23 anos.\n"
     ]
    }
   ],
   "source": [
    "print('Oi, meu nome é {} e eu tenho {} anos.'.format(nome,idade))"
   ]
  },
  {
   "cell_type": "code",
   "execution_count": null,
   "metadata": {
    "colab": {
     "base_uri": "https://localhost:8080/"
    },
    "executionInfo": {
     "elapsed": 920,
     "status": "ok",
     "timestamp": 1614639000932,
     "user": {
      "displayName": "Abner Cardoso Rodrigues Neto",
      "photoUrl": "",
      "userId": "17964229224599879007"
     },
     "user_tz": 180
    },
    "id": "7pnyYm__hntR",
    "outputId": "2574e8ab-8a08-4e04-cb1e-ef037823b82b"
   },
   "outputs": [
    {
     "name": "stdout",
     "output_type": "stream",
     "text": [
      "Oi, meu nome é Bruno e eu tenho 46 anos.\n"
     ]
    }
   ],
   "source": [
    "print(f'Oi, meu nome é {nome} e eu tenho {idade*2} anos.')"
   ]
  },
  {
   "cell_type": "markdown",
   "metadata": {
    "id": "PpvwdzJwxgfp"
   },
   "source": [
    "Mais sobre .format() [Aqui](https://www.w3schools.com/python/ref_string_format.asp)"
   ]
  },
  {
   "cell_type": "markdown",
   "metadata": {
    "id": "-S9P9nUYhntT"
   },
   "source": [
    "# Inputs"
   ]
  },
  {
   "cell_type": "markdown",
   "metadata": {
    "id": "da0RH0eIhntU"
   },
   "source": [
    "Às vezes, precisamos que o nosso dado venha de fora, ou seja, alguém, ou algum sistema precisa nos transmitir essa informação.\n",
    "Uma das formas de interagir com um usuário é por meio do comando ```input```."
   ]
  },
  {
   "cell_type": "code",
   "execution_count": null,
   "metadata": {
    "colab": {
     "base_uri": "https://localhost:8080/"
    },
    "executionInfo": {
     "elapsed": 9129,
     "status": "ok",
     "timestamp": 1614639306709,
     "user": {
      "displayName": "Abner Cardoso Rodrigues Neto",
      "photoUrl": "",
      "userId": "17964229224599879007"
     },
     "user_tz": 180
    },
    "id": "UM432CguhntU",
    "outputId": "9099eadc-c468-4f3a-a70c-45daf5cb8b3e"
   },
   "outputs": [
    {
     "name": "stdout",
     "output_type": "stream",
     "text": [
      "Informe Sua idade: 37\n",
      "Sua idade é: 37\n"
     ]
    }
   ],
   "source": [
    "idade = int(input('Informe Sua idade: '))\n",
    "print(f'Sua idade é: {idade}')"
   ]
  },
  {
   "cell_type": "markdown",
   "metadata": {
    "id": "BKjVNSoqhntW"
   },
   "source": [
    "# Comparadores e Operadores Lógicos"
   ]
  },
  {
   "cell_type": "markdown",
   "metadata": {
    "id": "kHgSZkpzhntW"
   },
   "source": [
    "Usamos os comparadores para comparar os valores de diferentes variáveis e os operadores lógicos para checar se uma determinada condição é verdadeira ou falsa."
   ]
  },
  {
   "cell_type": "markdown",
   "metadata": {
    "id": "KF7inADYA_38"
   },
   "source": [
    "**Operadores mais importantes:**\n",
    "\n",
    "* A == B  (vamos verificar se A é igual a B)\n",
    "* A > B (vamos verificar se A é maior que B)\n",
    "* A < B (vamos verificar se B é maior que A)\n",
    "* A >= B (vamos verificar se A é maior ou igual a B)\n",
    "* A != B (Vamos verificar se A é diferente de B)"
   ]
  },
  {
   "cell_type": "code",
   "execution_count": null,
   "metadata": {
    "id": "ngnaI1gQhntZ"
   },
   "outputs": [],
   "source": [
    "num1 = 3\n",
    "num2 = 4"
   ]
  },
  {
   "cell_type": "code",
   "execution_count": null,
   "metadata": {
    "colab": {
     "base_uri": "https://localhost:8080/"
    },
    "executionInfo": {
     "elapsed": 922,
     "status": "ok",
     "timestamp": 1614639379862,
     "user": {
      "displayName": "Abner Cardoso Rodrigues Neto",
      "photoUrl": "",
      "userId": "17964229224599879007"
     },
     "user_tz": 180
    },
    "id": "8F1ZA_73hntb",
    "outputId": "e83f23f4-4ab4-481a-9cfb-b47020c4b109"
   },
   "outputs": [
    {
     "data": {
      "text/plain": [
       "False"
      ]
     },
     "execution_count": 50,
     "metadata": {
      "tags": []
     },
     "output_type": "execute_result"
    }
   ],
   "source": [
    "num1 == num2"
   ]
  },
  {
   "cell_type": "code",
   "execution_count": null,
   "metadata": {
    "colab": {
     "base_uri": "https://localhost:8080/"
    },
    "executionInfo": {
     "elapsed": 1281,
     "status": "ok",
     "timestamp": 1614639385446,
     "user": {
      "displayName": "Abner Cardoso Rodrigues Neto",
      "photoUrl": "",
      "userId": "17964229224599879007"
     },
     "user_tz": 180
    },
    "id": "b46ys5iNhntd",
    "outputId": "cedfc4b1-cb00-4acf-8a8d-78490428b832"
   },
   "outputs": [
    {
     "data": {
      "text/plain": [
       "False"
      ]
     },
     "execution_count": 51,
     "metadata": {
      "tags": []
     },
     "output_type": "execute_result"
    }
   ],
   "source": [
    "num1 > num2"
   ]
  },
  {
   "cell_type": "code",
   "execution_count": null,
   "metadata": {
    "colab": {
     "base_uri": "https://localhost:8080/"
    },
    "executionInfo": {
     "elapsed": 921,
     "status": "ok",
     "timestamp": 1614639391315,
     "user": {
      "displayName": "Abner Cardoso Rodrigues Neto",
      "photoUrl": "",
      "userId": "17964229224599879007"
     },
     "user_tz": 180
    },
    "id": "0eexfLrFhntf",
    "outputId": "b9cfd87a-4599-44bd-8d96-55a66413e29e"
   },
   "outputs": [
    {
     "data": {
      "text/plain": [
       "True"
      ]
     },
     "execution_count": 52,
     "metadata": {
      "tags": []
     },
     "output_type": "execute_result"
    }
   ],
   "source": [
    "num1 < num2"
   ]
  },
  {
   "cell_type": "code",
   "execution_count": null,
   "metadata": {
    "colab": {
     "base_uri": "https://localhost:8080/"
    },
    "executionInfo": {
     "elapsed": 1310,
     "status": "ok",
     "timestamp": 1614639394602,
     "user": {
      "displayName": "Abner Cardoso Rodrigues Neto",
      "photoUrl": "",
      "userId": "17964229224599879007"
     },
     "user_tz": 180
    },
    "id": "uSbErWVuhnth",
    "outputId": "f9bc50f5-a336-4ad9-9fba-38aca6d561d2"
   },
   "outputs": [
    {
     "data": {
      "text/plain": [
       "True"
      ]
     },
     "execution_count": 53,
     "metadata": {
      "tags": []
     },
     "output_type": "execute_result"
    }
   ],
   "source": [
    "num1 <= num2"
   ]
  },
  {
   "cell_type": "code",
   "execution_count": null,
   "metadata": {
    "id": "s7Rua-87hntl"
   },
   "outputs": [],
   "source": [
    "num1 >= num2"
   ]
  },
  {
   "cell_type": "code",
   "execution_count": null,
   "metadata": {
    "id": "qii5PsJ9hnto"
   },
   "outputs": [],
   "source": [
    "num1 != num2"
   ]
  },
  {
   "cell_type": "code",
   "execution_count": null,
   "metadata": {
    "colab": {
     "base_uri": "https://localhost:8080/"
    },
    "executionInfo": {
     "elapsed": 1050,
     "status": "ok",
     "timestamp": 1614639404202,
     "user": {
      "displayName": "Abner Cardoso Rodrigues Neto",
      "photoUrl": "",
      "userId": "17964229224599879007"
     },
     "user_tz": 180
    },
    "id": "_Vss2ICZphhm",
    "outputId": "2be20842-a7d0-4a01-f63f-cdc4dccf8c3c"
   },
   "outputs": [
    {
     "data": {
      "text/plain": [
       "False"
      ]
     },
     "execution_count": 55,
     "metadata": {
      "tags": []
     },
     "output_type": "execute_result"
    }
   ],
   "source": [
    "'hello' == 'hell'"
   ]
  },
  {
   "cell_type": "code",
   "execution_count": null,
   "metadata": {
    "id": "z7Y0nzn1piiv"
   },
   "outputs": [],
   "source": [
    "'dog' != 'cat'"
   ]
  },
  {
   "cell_type": "code",
   "execution_count": null,
   "metadata": {
    "colab": {
     "base_uri": "https://localhost:8080/"
    },
    "executionInfo": {
     "elapsed": 914,
     "status": "ok",
     "timestamp": 1614639623135,
     "user": {
      "displayName": "Abner Cardoso Rodrigues Neto",
      "photoUrl": "",
      "userId": "17964229224599879007"
     },
     "user_tz": 180
    },
    "id": "Fjf2_ZBeplBZ",
    "outputId": "3f7789a4-e947-40d7-f3f6-75b727ca370c"
   },
   "outputs": [
    {
     "data": {
      "text/plain": [
       "False"
      ]
     },
     "execution_count": 56,
     "metadata": {
      "tags": []
     },
     "output_type": "execute_result"
    }
   ],
   "source": [
    "42 == '42'"
   ]
  },
  {
   "cell_type": "markdown",
   "metadata": {
    "id": "Zj0yiUHqhntq"
   },
   "source": [
    "**Combinando comparações por meio de operadores lógicos.**\n"
   ]
  },
  {
   "cell_type": "code",
   "execution_count": null,
   "metadata": {
    "id": "CgSwXLAHyDGa"
   },
   "outputs": [],
   "source": [
    "idade1 = 20\n",
    "idade2 = 15\n",
    "idade3 = 10"
   ]
  },
  {
   "cell_type": "markdown",
   "metadata": {
    "id": "elfJEqrUhntu"
   },
   "source": [
    "Quando usamos ```AND``` com comparações, esperamos que todas sejam verdadeiras. "
   ]
  },
  {
   "cell_type": "code",
   "execution_count": null,
   "metadata": {
    "colab": {
     "base_uri": "https://localhost:8080/"
    },
    "executionInfo": {
     "elapsed": 1740,
     "status": "ok",
     "timestamp": 1614639692858,
     "user": {
      "displayName": "Abner Cardoso Rodrigues Neto",
      "photoUrl": "",
      "userId": "17964229224599879007"
     },
     "user_tz": 180
    },
    "id": "lTXlZAOShntu",
    "outputId": "d29986ae-a79d-438b-fe6e-5df73b948280"
   },
   "outputs": [
    {
     "data": {
      "text/plain": [
       "False"
      ]
     },
     "execution_count": 59,
     "metadata": {
      "tags": []
     },
     "output_type": "execute_result"
    }
   ],
   "source": [
    "idade1 > idade2 and idade1 < idade3"
   ]
  },
  {
   "cell_type": "markdown",
   "metadata": {
    "id": "zJIoUZ7_hntw"
   },
   "source": [
    "Nesse caso, idade1 é maior que idade 2, mas idade1 não é menor que idade3."
   ]
  },
  {
   "cell_type": "markdown",
   "metadata": {
    "id": "UMlatt8Chntx"
   },
   "source": [
    "Quando usamos o ```OR```, precisamos que pelo menos uma condição seja verdadeira."
   ]
  },
  {
   "cell_type": "code",
   "execution_count": null,
   "metadata": {
    "colab": {
     "base_uri": "https://localhost:8080/"
    },
    "executionInfo": {
     "elapsed": 1460,
     "status": "ok",
     "timestamp": 1614639707124,
     "user": {
      "displayName": "Abner Cardoso Rodrigues Neto",
      "photoUrl": "",
      "userId": "17964229224599879007"
     },
     "user_tz": 180
    },
    "id": "JVZmzrhbhntx",
    "outputId": "16c30f43-0019-414a-ad67-b026268ed258"
   },
   "outputs": [
    {
     "data": {
      "text/plain": [
       "True"
      ]
     },
     "execution_count": 60,
     "metadata": {
      "tags": []
     },
     "output_type": "execute_result"
    }
   ],
   "source": [
    "idade1 > idade2 or idade1 < idade3"
   ]
  },
  {
   "cell_type": "markdown",
   "metadata": {
    "id": "L5fEK6E1hnt0"
   },
   "source": [
    "Nesse caso, idade1 > idade2, ou seja, já é suficiente para a comparação inteira ser verdadeira."
   ]
  },
  {
   "cell_type": "markdown",
   "metadata": {
    "id": "tZxlSfKShnt0"
   },
   "source": [
    "# Estruturas Condicionais"
   ]
  },
  {
   "cell_type": "markdown",
   "metadata": {
    "id": "0mG0yFIUhnt0"
   },
   "source": [
    "Em algumas ocasiões necessitamos que algo aconteça, se uma determinada condição for atendida, ou algum evento aconteça."
   ]
  },
  {
   "cell_type": "markdown",
   "metadata": {
    "id": "3Rb4dJs9hnt1"
   },
   "source": [
    "```SE``` (condição):<br>\n",
    "```ENTAO``` (execute)<br>\n",
    "```CASO NÃO``` (execute)"
   ]
  },
  {
   "cell_type": "markdown",
   "metadata": {
    "id": "ZDrH5-LDhnt1"
   },
   "source": [
    "Por exemplo, imagine a média da nota de um aluno. Se a média for ```maior ou igual a 7```, ele é aprovado, caso contrário, ele é reprovado."
   ]
  },
  {
   "cell_type": "code",
   "execution_count": null,
   "metadata": {
    "colab": {
     "base_uri": "https://localhost:8080/"
    },
    "executionInfo": {
     "elapsed": 903,
     "status": "ok",
     "timestamp": 1614640004035,
     "user": {
      "displayName": "Abner Cardoso Rodrigues Neto",
      "photoUrl": "",
      "userId": "17964229224599879007"
     },
     "user_tz": 180
    },
    "id": "zFiIyW1Dhnt1",
    "outputId": "a6f3b91c-13e2-4b86-8b28-529751ec068c"
   },
   "outputs": [
    {
     "name": "stdout",
     "output_type": "stream",
     "text": [
      "Aluno Reprovado!\n"
     ]
    }
   ],
   "source": [
    "media_aluno = 6.5\n",
    "# Se média maior ou igual a 7, então ele é aprovado\n",
    "if media_aluno >=7:\n",
    "    print('Aluno Aprovado!')\n",
    "# Caso contrário, ele está reprovado\n",
    "else:\n",
    "    print('Aluno Reprovado!')\n"
   ]
  },
  {
   "cell_type": "markdown",
   "metadata": {
    "id": "NE-9f_mdhnt3"
   },
   "source": [
    "**E se eu tiver mais de uma condição??**"
   ]
  },
  {
   "cell_type": "code",
   "execution_count": null,
   "metadata": {
    "colab": {
     "base_uri": "https://localhost:8080/"
    },
    "executionInfo": {
     "elapsed": 1438,
     "status": "ok",
     "timestamp": 1614640262267,
     "user": {
      "displayName": "Abner Cardoso Rodrigues Neto",
      "photoUrl": "",
      "userId": "17964229224599879007"
     },
     "user_tz": 180
    },
    "id": "d7oPLy5Whnt4",
    "outputId": "fd1429a2-31f2-48d0-ea49-891c16ea5d88"
   },
   "outputs": [
    {
     "name": "stdout",
     "output_type": "stream",
     "text": [
      "Aluno na Recuperação\n"
     ]
    }
   ],
   "source": [
    "# Se média maior ou igual a 7, então ele é aprovado\n",
    "if media_aluno >=7:\n",
    "    print('Aluno Aprovado!')\n",
    "# Caso contrário, se a média é maior ou iguala 5, ele vai pra recuperação\n",
    "elif media_aluno >= 5:\n",
    "    print('Aluno na Recuperação')\n",
    "# Caso contrário ele é reprovado\n",
    "else:\n",
    "    print('Aluno Reprovado!')"
   ]
  },
  {
   "cell_type": "markdown",
   "metadata": {
    "id": "9ZXH6ZkFhnt6"
   },
   "source": [
    "# Loops"
   ]
  },
  {
   "cell_type": "markdown",
   "metadata": {
    "id": "quEGQWG8hnt7"
   },
   "source": [
    "E Se precisarmos repetir determinada tarefa?\n",
    "Por exemplo: Precisamos avaliar se 1000 alunos foram aprovados, reprovados ou foram pra recuperação. Como você faria isso?"
   ]
  },
  {
   "cell_type": "markdown",
   "metadata": {
    "id": "ChOTGeyxhnt7"
   },
   "source": [
    "## For"
   ]
  },
  {
   "cell_type": "markdown",
   "metadata": {
    "id": "K2MGs-t3hnt7"
   },
   "source": [
    "O loop For é utilizado quando queremos repetir uma operação em um número finito de vezes.\n",
    "\n",
    "No loop, uma variável definida percorre uma sequência. A cada iteração o valor da variável é atualizado com o próximo valor da lista."
   ]
  },
  {
   "cell_type": "code",
   "execution_count": null,
   "metadata": {
    "colab": {
     "base_uri": "https://localhost:8080/"
    },
    "executionInfo": {
     "elapsed": 1048,
     "status": "ok",
     "timestamp": 1614640449781,
     "user": {
      "displayName": "Abner Cardoso Rodrigues Neto",
      "photoUrl": "",
      "userId": "17964229224599879007"
     },
     "user_tz": 180
    },
    "id": "XsywMxWShnt8",
    "outputId": "03a4815b-81ab-4390-f69f-4394587bd41a"
   },
   "outputs": [
    {
     "name": "stdout",
     "output_type": "stream",
     "text": [
      "0\n",
      "1\n",
      "2\n",
      "3\n",
      "4\n"
     ]
    }
   ],
   "source": [
    "# Pra gerar uma sequência podemos utilizar a função range\n",
    "# Sequência de 5 números iniciando o 0\n",
    "# Outros parametrod do range?\n",
    "for i in range(5):\n",
    "    print(i)\n"
   ]
  },
  {
   "cell_type": "code",
   "execution_count": null,
   "metadata": {
    "colab": {
     "base_uri": "https://localhost:8080/"
    },
    "executionInfo": {
     "elapsed": 28382,
     "status": "ok",
     "timestamp": 1614640856017,
     "user": {
      "displayName": "Abner Cardoso Rodrigues Neto",
      "photoUrl": "",
      "userId": "17964229224599879007"
     },
     "user_tz": 180
    },
    "id": "_lI1zWHIhnt9",
    "outputId": "bc0e251a-748f-41c8-9852-fccfc527cf7b"
   },
   "outputs": [
    {
     "name": "stdout",
     "output_type": "stream",
     "text": [
      "Informe a nota do aluno: 0\n",
      "0\n",
      "Aluno Reprovado!\n",
      "\n",
      "Informe a nota do aluno: 0\n",
      "1\n",
      "Aluno Reprovado!\n",
      "\n",
      "Informe a nota do aluno: 10\n",
      "2\n",
      "Aluno Aprovado!\n",
      "\n",
      "Informe a nota do aluno: 7\n",
      "3\n",
      "Aluno Aprovado!\n",
      "\n",
      "Informe a nota do aluno: 9\n",
      "4\n",
      "Aluno Aprovado!\n",
      "\n"
     ]
    }
   ],
   "source": [
    "# Avaliando a aprovação de 5 alunos\n",
    "# Se média maior ou igual a 7, então ele é aprovado\n",
    "for i in range(5):\n",
    "    media_aluno = float(input('Informe a nota do aluno: '))\n",
    "    print(i)\n",
    "    if media_aluno >=7:\n",
    "        print('Aluno Aprovado!\\n')\n",
    "    # Caso contrário, ele está reprovado\n",
    "    else:\n",
    "        print('Aluno Reprovado!\\n')"
   ]
  },
  {
   "cell_type": "markdown",
   "metadata": {
    "id": "CvJHKEqLhnt_"
   },
   "source": [
    "## While"
   ]
  },
  {
   "cell_type": "markdown",
   "metadata": {
    "id": "lAMm72EUhnt_"
   },
   "source": [
    "O Loop While vai executar um comando baseado em uma condição. Se essa condição for verdadeira o loop roda uma iteração. No final de cada iteração, a condição é reavaliada. Caso ainda seja verdadeira, o loop continua, caso contrário ele é interrompido.\n"
   ]
  },
  {
   "cell_type": "code",
   "execution_count": null,
   "metadata": {
    "id": "uEob7FBXhnuB"
   },
   "outputs": [],
   "source": [
    "# Exemplo de loop infinito\n",
    "i = 5 \n",
    "while i < 6:\n",
    "    print('Hello World!')"
   ]
  },
  {
   "cell_type": "code",
   "execution_count": null,
   "metadata": {
    "colab": {
     "base_uri": "https://localhost:8080/"
    },
    "executionInfo": {
     "elapsed": 843,
     "status": "ok",
     "timestamp": 1614641046713,
     "user": {
      "displayName": "Abner Cardoso Rodrigues Neto",
      "photoUrl": "",
      "userId": "17964229224599879007"
     },
     "user_tz": 180
    },
    "id": "cQECWOG-hnuF",
    "outputId": "c4941cae-a0fa-4010-8b84-d69eeba550b5"
   },
   "outputs": [
    {
     "name": "stdout",
     "output_type": "stream",
     "text": [
      "5\n",
      "6\n"
     ]
    }
   ],
   "source": [
    "# Loop com condição de parada\n",
    "# Nesse caso, a cada iteração é somado +1 ao valor de i\n",
    "i = 5\n",
    "while i < 7:\n",
    "    print(i)\n",
    "    \n",
    "    i = i+1"
   ]
  }
 ],
 "metadata": {
  "colab": {
   "collapsed_sections": [
    "SXe6KvUWhnsj",
    "77FuxEXnhnst",
    "8gogjr_dhns_",
    "5EY1ggdBhntL",
    "-S9P9nUYhntT",
    "BKjVNSoqhntW",
    "tZxlSfKShnt0",
    "9ZXH6ZkFhnt6",
    "ChOTGeyxhnt7",
    "CvJHKEqLhnt_",
    "JTHnInExhnuI",
    "HwdCC0OMhnul",
    "_4vLqi7GyDHS"
   ],
   "name": "DS_TN02_Aula_03.ipynb",
   "provenance": [
    {
     "file_id": "1jme0qmkK7AIW-u-nFuBGCfHjQb48Rbf6",
     "timestamp": 1614614059456
    }
   ],
   "toc_visible": true
  },
  "hide_input": false,
  "kernelspec": {
   "display_name": "Python 3 (ipykernel)",
   "language": "python",
   "name": "python3"
  },
  "language_info": {
   "codemirror_mode": {
    "name": "ipython",
    "version": 3
   },
   "file_extension": ".py",
   "mimetype": "text/x-python",
   "name": "python",
   "nbconvert_exporter": "python",
   "pygments_lexer": "ipython3",
   "version": "3.11.7"
  },
  "toc": {
   "base_numbering": 1,
   "nav_menu": {},
   "number_sections": true,
   "sideBar": true,
   "skip_h1_title": false,
   "title_cell": "Table of Contents",
   "title_sidebar": "Contents",
   "toc_cell": false,
   "toc_position": {},
   "toc_section_display": true,
   "toc_window_display": false
  }
 },
 "nbformat": 4,
 "nbformat_minor": 1
}
