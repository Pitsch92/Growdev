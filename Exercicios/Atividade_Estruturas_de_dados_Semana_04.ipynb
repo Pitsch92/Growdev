{
  "nbformat": 4,
  "nbformat_minor": 0,
  "metadata": {
    "colab": {
      "provenance": []
    },
    "kernelspec": {
      "name": "python3",
      "display_name": "Python 3"
    },
    "language_info": {
      "name": "python"
    }
  },
  "cells": [
    {
      "cell_type": "markdown",
      "source": [
        "![Growdev](https://www.growdev.com.br/assets/images/logo_growdev.png)"
      ],
      "metadata": {
        "id": "v8pFWwviib2C"
      }
    },
    {
      "cell_type": "markdown",
      "source": [
        "![Formação Engenharia de Dados](https://d335luupugsy2.cloudfront.net/cms/files/524558/1707226566/$occu5m8t1op)"
      ],
      "metadata": {
        "id": "6Tkl4_HxifXZ"
      }
    },
    {
      "cell_type": "markdown",
      "source": [
        "Este material tem como objetivo incentivar a prática dos conteúdos estudados até o momento, e a pesquisa. Tenha em consideração que o exercício foi pensado para incentivar a prática dos conteúdos estudados até então, porém aprender a pesquisar faz parte do processo de aprendizagem.\n",
        "\n",
        "Fique tranquilo, faça os exercícios com calma, e boa prática!\n"
      ],
      "metadata": {
        "id": "ty7Bzyl1i9bN"
      }
    },
    {
      "cell_type": "markdown",
      "source": [
        "#Orientações:\n",
        "\n",
        " - Faça uma copia deste arquivo\n",
        " - Após concluir os exercicios, suba seu exercicio para o GitHub e compartilhe o link no **google** Classroom\n"
      ],
      "metadata": {
        "id": "DU5-yCQwjx3V"
      }
    },
    {
      "cell_type": "markdown",
      "source": [
        "#Exercícios"
      ],
      "metadata": {
        "id": "EzT810tnlmfE"
      }
    },
    {
      "cell_type": "markdown",
      "source": [
        "#Listas"
      ],
      "metadata": {
        "id": "rDqBAimhSq_C"
      }
    },
    {
      "cell_type": "markdown",
      "source": [
        "Para esse exercicio você tera alguns desafios, separei eles em partes, vamos lá?\n",
        "\n",
        "1 - Crie uma lista com 100 números inteiros.\n",
        "- Pode ser uma sequência, ou caso queira se desafiar faça de números aleatorios.\n",
        "- Os dados não devem ser inseridos manualmente, utilize de um laço de repetição para adicionar os elementos a Lista.\n"
      ],
      "metadata": {
        "id": "GoGkz2n-SudC"
      }
    },
    {
      "cell_type": "code",
      "source": [
        "import random\n",
        "\n",
        "lista = []\n",
        "\n",
        "for i in range(100):\n",
        "  lista.append(random.randint(1,1000))\n",
        "  print(lista)\n",
        "\n"
      ],
      "metadata": {
        "id": "lLYBJr0KSuJW"
      },
      "execution_count": null,
      "outputs": []
    },
    {
      "cell_type": "markdown",
      "source": [
        "2 - Calcule e exiba a soma de todos os números da lista."
      ],
      "metadata": {
        "id": "LQ0SVqxyVTD5"
      }
    },
    {
      "cell_type": "code",
      "source": [
        "print(sum(lista))\n"
      ],
      "metadata": {
        "id": "6HP8yU1bVS0F",
        "outputId": "914efcc7-4fbb-45c0-9449-b7b47fe059b1",
        "colab": {
          "base_uri": "https://localhost:8080/"
        }
      },
      "execution_count": 3,
      "outputs": [
        {
          "output_type": "stream",
          "name": "stdout",
          "text": [
            "53192\n"
          ]
        }
      ]
    },
    {
      "cell_type": "markdown",
      "source": [
        "3 - Exiba o maior e o menor número da lista."
      ],
      "metadata": {
        "id": "HYQGLklTTPMx"
      }
    },
    {
      "cell_type": "code",
      "source": [
        "print(max(lista))\n",
        "print(min(lista))"
      ],
      "metadata": {
        "id": "q_UZx7EETT6S",
        "outputId": "1c620450-1dd8-4c10-e942-d97299e16a43",
        "colab": {
          "base_uri": "https://localhost:8080/"
        }
      },
      "execution_count": 4,
      "outputs": [
        {
          "output_type": "stream",
          "name": "stdout",
          "text": [
            "983\n",
            "24\n"
          ]
        }
      ]
    },
    {
      "cell_type": "markdown",
      "source": [
        "4 - Pesquise se o número 77 esta presente na lista e exiba:\n",
        "- Quantas vezes esse número aparece na lista\n",
        "- Se aparece em qual ou quais posições(Indice)."
      ],
      "metadata": {
        "id": "1iU6ZtRhVN9i"
      }
    },
    {
      "cell_type": "code",
      "source": [
        "print(77 in lista)"
      ],
      "metadata": {
        "id": "OGVH4AoGWU2R",
        "outputId": "42a6fd63-974f-468e-ca73-5fe56f5350ee",
        "colab": {
          "base_uri": "https://localhost:8080/"
        }
      },
      "execution_count": 5,
      "outputs": [
        {
          "output_type": "stream",
          "name": "stdout",
          "text": [
            "False\n"
          ]
        }
      ]
    },
    {
      "cell_type": "markdown",
      "source": [
        "5 - Ordene a lista de forma descendente e exiba."
      ],
      "metadata": {
        "id": "jrwycUMvWVSu"
      }
    },
    {
      "cell_type": "code",
      "source": [
        "lista.sort(reverse = True)\n",
        "print(lista)"
      ],
      "metadata": {
        "id": "RvRpLp87e5CB",
        "outputId": "e13d6f9f-1105-43d4-c670-828f953430d8",
        "colab": {
          "base_uri": "https://localhost:8080/"
        }
      },
      "execution_count": 8,
      "outputs": [
        {
          "output_type": "stream",
          "name": "stdout",
          "text": [
            "[983, 973, 972, 954, 950, 926, 913, 912, 907, 876, 866, 862, 849, 847, 836, 811, 806, 804, 802, 793, 787, 786, 784, 781, 774, 772, 770, 759, 757, 755, 754, 754, 751, 740, 730, 729, 722, 705, 697, 685, 676, 664, 627, 623, 618, 613, 603, 600, 592, 564, 517, 513, 510, 503, 501, 495, 486, 482, 470, 468, 462, 456, 402, 367, 365, 357, 355, 344, 335, 318, 314, 314, 297, 284, 283, 279, 250, 248, 228, 228, 224, 223, 212, 211, 207, 193, 185, 184, 170, 165, 152, 132, 118, 117, 105, 103, 99, 92, 31, 24]\n"
          ]
        }
      ]
    },
    {
      "cell_type": "markdown",
      "source": [
        "## Tuplas:"
      ],
      "metadata": {
        "id": "Be68CsC2OftE"
      }
    },
    {
      "cell_type": "markdown",
      "source": [
        "Crie uma tupla com os dias da semana e peça para o usuário digitar um número de 1 a 7. Exiba o dia correspondente."
      ],
      "metadata": {
        "id": "SQzRrAmq1SnR"
      }
    },
    {
      "cell_type": "code",
      "source": [
        "dias_semana = ('segunda', 'terça', 'quarta', 'quinta', 'sexta')\n",
        "\n",
        "dia_selecionado = int(input('Digite de 1 a 7: '))\n",
        "print(dias_semana[dia_selecionado-1])\n"
      ],
      "metadata": {
        "id": "7BqDEfeq1TZE",
        "outputId": "6f77a14d-70d7-4fd1-e968-7104a4e79a04",
        "colab": {
          "base_uri": "https://localhost:8080/"
        }
      },
      "execution_count": 9,
      "outputs": [
        {
          "output_type": "stream",
          "name": "stdout",
          "text": [
            "Digite de 1 a 7: 1\n",
            "segunda\n"
          ]
        }
      ]
    },
    {
      "cell_type": "markdown",
      "source": [
        "Crie duas tuplas com números inteiros e crie uma terceira tupla com a concatenação das duas."
      ],
      "metadata": {
        "id": "J9LW9fru7hv6"
      }
    },
    {
      "cell_type": "code",
      "source": [
        "import random\n",
        "\n",
        "lista = []\n",
        "\n",
        "for i in range(30):\n",
        "  lista.append(random.randint(1,30))\n",
        "\n",
        "tupla_1 = tuple(lista)\n",
        "lista = []\n",
        "\n",
        "for i in range(30):\n",
        "  lista.append(random.randint(1,30))\n",
        "\n",
        "tupla_2 = tuple(lista)\n",
        "\n",
        "\n",
        "\n",
        "tupla_3 = tupla_1 + tupla_2\n",
        "\n",
        "print(tupla_1)\n",
        "print(tupla_2)\n",
        "print(tupla_3)"
      ],
      "metadata": {
        "id": "J2pBsS-f7idJ"
      },
      "execution_count": null,
      "outputs": []
    },
    {
      "cell_type": "markdown",
      "source": [
        " Crie uma tupla com alguns elementos e remova um elemento específico."
      ],
      "metadata": {
        "id": "ytDz_SXB7o-8"
      }
    },
    {
      "cell_type": "code",
      "source": [
        "import random\n",
        "\n",
        "lista = []\n",
        "\n",
        "for i in range(30):\n",
        "  lista.append(random.randint(1,30))\n",
        "\n",
        "tupla_1 = tuple(lista)\n",
        "print(tupla_1)\n",
        "lista_temporaria = list(tupla_1)\n",
        "del lista_temporaria[len(lista_temporaria)-1]\n",
        "tupla_1 = tuple(lista_temporaria)\n",
        "print(tupla_1)\n",
        "\n"
      ],
      "metadata": {
        "id": "QvIAx6HP7pbh",
        "outputId": "d20fc97a-8dd0-45e0-fd64-3c65f63c9092",
        "colab": {
          "base_uri": "https://localhost:8080/"
        }
      },
      "execution_count": 16,
      "outputs": [
        {
          "output_type": "stream",
          "name": "stdout",
          "text": [
            "(26, 11, 30, 8, 5, 7, 23, 26, 10, 20, 21, 9, 7, 10, 29, 9, 10, 12, 17, 27, 14, 30, 6, 15, 11, 5, 6, 28, 11, 15)\n",
            "(26, 11, 30, 8, 5, 7, 23, 26, 10, 20, 21, 9, 7, 10, 29, 9, 10, 12, 17, 27, 14, 30, 6, 15, 11, 5, 6, 28, 11)\n"
          ]
        }
      ]
    },
    {
      "cell_type": "markdown",
      "source": [
        "#Sets"
      ],
      "metadata": {
        "id": "v_JM0Has1pPL"
      }
    },
    {
      "cell_type": "markdown",
      "source": [
        "Crie dois sets com cores diferentes e exiba na tela a união dos dois sets."
      ],
      "metadata": {
        "id": "Urrv-Y291roJ"
      }
    },
    {
      "cell_type": "code",
      "source": [
        "set_1 = {'branco','azul','amarelo'}\n",
        "set_2 = {'preto', 'roxo', 'verde'}\n",
        "\n",
        "set_3 = set_1.union(set_2)\n",
        "\n",
        "print(set_3)"
      ],
      "metadata": {
        "id": "FM4S-PEa1zSW",
        "outputId": "dcecd167-da0b-45af-c120-8c2435ffa89f",
        "colab": {
          "base_uri": "https://localhost:8080/"
        }
      },
      "execution_count": 17,
      "outputs": [
        {
          "output_type": "stream",
          "name": "stdout",
          "text": [
            "{'amarelo', 'roxo', 'branco', 'preto', 'verde', 'azul'}\n"
          ]
        }
      ]
    },
    {
      "cell_type": "markdown",
      "source": [
        "Crie uma lista com alguns números repetidos. Converta essa lista em um set para remover as duplicatas e exiba o resultado."
      ],
      "metadata": {
        "id": "0q0tG4eG1zkL"
      }
    },
    {
      "cell_type": "code",
      "source": [
        "import random\n",
        "\n",
        "lista = []\n",
        "\n",
        "for i in range(30):\n",
        "  lista.append(random.randint(1,10))\n",
        "\n",
        "print(lista)\n",
        "set_1 = set(lista)\n",
        "\n",
        "print(set_1)\n"
      ],
      "metadata": {
        "id": "j4okoTWR2I_R",
        "outputId": "3e76afc9-e0ca-4560-a149-0a3e159780bd",
        "colab": {
          "base_uri": "https://localhost:8080/"
        }
      },
      "execution_count": 19,
      "outputs": [
        {
          "output_type": "stream",
          "name": "stdout",
          "text": [
            "[3, 6, 1, 9, 1, 6, 9, 8, 9, 10, 3, 6, 4, 5, 5, 1, 1, 5, 10, 1, 10, 7, 7, 1, 8, 3, 10, 2, 10, 6]\n",
            "{1, 2, 3, 4, 5, 6, 7, 8, 9, 10}\n"
          ]
        }
      ]
    },
    {
      "cell_type": "markdown",
      "source": [
        "#Dicionários:"
      ],
      "metadata": {
        "id": "4MCBgr-k1fvU"
      }
    },
    {
      "cell_type": "markdown",
      "source": [
        " Crie um dicionário com os nomes de algumas frutas e suas respectivas cores. Exiba na tela somente as frutas que são vermelhas."
      ],
      "metadata": {
        "id": "0A-DeyIMPh4g"
      }
    },
    {
      "cell_type": "code",
      "source": [
        "dicionario_frutas_cores = {'Laranja':'Laranja', 'Morango':'Vermelho', 'Maçã': 'Vermelho', 'Cereja': 'Vermelho', 'Banana': 'Amarelo'}\n",
        "\n",
        "for fruta, cor in dicionario_frutas_cores.items():\n",
        "  if cor == 'Vermelho':\n",
        "    print(fruta)"
      ],
      "metadata": {
        "id": "7jlD2DV4Pjom",
        "outputId": "95e21cf3-aca5-4fce-f29f-808f9ca7f73c",
        "colab": {
          "base_uri": "https://localhost:8080/"
        }
      },
      "execution_count": 21,
      "outputs": [
        {
          "output_type": "stream",
          "name": "stdout",
          "text": [
            "Morango\n",
            "Maçã\n",
            "Cereja\n"
          ]
        }
      ]
    },
    {
      "cell_type": "markdown",
      "source": [
        "Crie um dicionário com o nome e a idade de três pessoas. Busque por  um nome e exiba a idade correspondente."
      ],
      "metadata": {
        "id": "q-XV14A-PmSa"
      }
    },
    {
      "cell_type": "code",
      "source": [
        "\n",
        "dicionario_nomes_idades = {'Guilherme': 21, 'Anna': 31, 'Thomas': 55}\n",
        "nome_procurado = input('Digite o noem que busca: ')\n",
        "Sucesso = False\n",
        "\n",
        "for nome, idade in dicionario_nomes_idades.items():\n",
        "  if nome == nome_procurado:\n",
        "    print(f'{nome} {idade}')\n",
        "    Sucesso = True\n",
        "\n",
        "if Sucesso == False:\n",
        "      print('Nome não encontrado')"
      ],
      "metadata": {
        "id": "8rPH-lzG2gvh",
        "outputId": "f79006a7-2491-4c53-ea5d-985ca3c7b47a",
        "colab": {
          "base_uri": "https://localhost:8080/"
        }
      },
      "execution_count": 26,
      "outputs": [
        {
          "output_type": "stream",
          "name": "stdout",
          "text": [
            "Digite o noem que busca: Adriana\n",
            "Nome não encontrado\n"
          ]
        }
      ]
    },
    {
      "cell_type": "markdown",
      "source": [
        "Crie um dicionário com os nomes e idades de algumas pessoas. Peça para o usuário digitar um nome e sua nova idade, e atualize o dicionário com essa informação."
      ],
      "metadata": {
        "id": "yEn6q_MP5SdW"
      }
    },
    {
      "cell_type": "code",
      "source": [
        "dicionario_nomes_idades = {'Guilherme': 21, 'Anna': 31, 'Thomas': 55}\n",
        "nome_procurado = input('Digite o noem que busca: ')\n",
        "idade_update = int(input('Digite a nova Idade'))\n",
        "Sucesso = False\n",
        "\n",
        "for nome, idade in dicionario_nomes_idades.items():\n",
        "  if nome_procurado == nome:\n",
        "    dicionario_nomes_idades[nome] = idade_update\n",
        "    Sucesso = True\n",
        "    print(dicionario_nomes_idades)\n",
        "\n",
        "if Sucesso == False:\n",
        "      print('Nome não encontrado')\n",
        "\n"
      ],
      "metadata": {
        "id": "H-RHnfMm5TcR",
        "outputId": "530b879c-6b2e-4ee7-9041-1c3cbd33dd28",
        "colab": {
          "base_uri": "https://localhost:8080/"
        }
      },
      "execution_count": 30,
      "outputs": [
        {
          "output_type": "stream",
          "name": "stdout",
          "text": [
            "Digite o noem que busca: Roberto\n",
            "Digite a nova Idade12\n",
            "Nome não encontrado\n",
            "{'Guilherme': 21, 'Anna': 31, 'Thomas': 55}\n"
          ]
        }
      ]
    },
    {
      "cell_type": "markdown",
      "source": [
        "Desafio Dicionários:\n",
        "\n",
        "Busque o código desenvolvido para o exercicio abaixo e altere o algoritmo para:\n",
        "\n",
        " - Salvar o resultado da eleição em um dícionário.\n",
        "\n",
        "\n",
        "Exemplo de saida do dicionario: {\"Candidato 1\": 2, \"Candidato 2\": 2, \"Voto Nulo\": 0, \"Voto Branco\": 1}\n",
        "\n",
        "\n",
        "Este exercicio foi realizado na lista da semana passada, exercicio de número 4:"
      ],
      "metadata": {
        "id": "Jeelh1Xw2hab"
      }
    },
    {
      "cell_type": "markdown",
      "source": [
        "\n",
        "\"Em uma eleição presidencial existem dois candidatos. Os votos são informados através de códigos. Os dados utilizados para a contagem dos votos obedecem à seguinte codificação:\n",
        "\n",
        "1,2 = voto para os respectivos candidatos\n",
        "\n",
        "3 = voto nulo\n",
        "\n",
        "4 = voto em branco;\n",
        "\n",
        "Elabore um programa que leia o código de votação de 5 eleitores. Calcule e escreva: total de votos para cada candidato total de votos nulos total de votos em branco\""
      ],
      "metadata": {
        "id": "cDnoQXk83e5B"
      }
    },
    {
      "cell_type": "code",
      "source": [
        "menu = 'Por favor, escolha uma opção:\\n1 - Cadidado João\\n2 - Candidato Maria\\n3 - Nulo\\n4 - Branco\\nSua escolha:'\n",
        "dicionario_candidato_votos = {'João': 0, 'Maria': 0, 'Nulo': 0, 'Branco': 0}\n",
        "contagem_eleitores = 0\n",
        "escolha_eleicao = True\n",
        "\n",
        "while(contagem_eleitores < 5):\n",
        "  escolha_eleicao = int(input(print(menu)))\n",
        "  if(escolha_eleicao < 5 and escolha_eleicao > 0):\n",
        "    contagem_eleitores += 1\n",
        "    match escolha_eleicao:\n",
        "      case 1:\n",
        "        dicionario_candidato_votos['João'] += 1\n",
        "      case 2:\n",
        "        dicionario_candidato_votos['Maria'] += 1\n",
        "      case 3:\n",
        "        dicionario_candidato_votos['Nulo'] += 1\n",
        "      case 4:\n",
        "        dicionario_candidato_votos['Branco'] += 1\n",
        "  else:\n",
        "    print('Número invalido')\n",
        "\n",
        "\n",
        "print(dicionario_candidato_votos)\n",
        "\n"
      ],
      "metadata": {
        "id": "CRlV5NE82kpE",
        "outputId": "630321e9-71d4-4d47-fdd3-e586052dc339",
        "colab": {
          "base_uri": "https://localhost:8080/"
        }
      },
      "execution_count": 31,
      "outputs": [
        {
          "output_type": "stream",
          "name": "stdout",
          "text": [
            "Por favor, escolha uma opção:\n",
            "1 - Cadidado João\n",
            "2 - Candidato Maria\n",
            "3 - Nulo\n",
            "4 - Branco\n",
            "Sua escolha:\n",
            "None1\n",
            "Por favor, escolha uma opção:\n",
            "1 - Cadidado João\n",
            "2 - Candidato Maria\n",
            "3 - Nulo\n",
            "4 - Branco\n",
            "Sua escolha:\n",
            "None1\n",
            "Por favor, escolha uma opção:\n",
            "1 - Cadidado João\n",
            "2 - Candidato Maria\n",
            "3 - Nulo\n",
            "4 - Branco\n",
            "Sua escolha:\n",
            "None2\n",
            "Por favor, escolha uma opção:\n",
            "1 - Cadidado João\n",
            "2 - Candidato Maria\n",
            "3 - Nulo\n",
            "4 - Branco\n",
            "Sua escolha:\n",
            "None3\n",
            "Por favor, escolha uma opção:\n",
            "1 - Cadidado João\n",
            "2 - Candidato Maria\n",
            "3 - Nulo\n",
            "4 - Branco\n",
            "Sua escolha:\n",
            "None4\n",
            "{'João': 2, 'Maria': 1, 'Nulo': 1, 'Branco': 1}\n"
          ]
        }
      ]
    },
    {
      "cell_type": "code",
      "source": [],
      "metadata": {
        "id": "c3dR_zNPHIfQ"
      },
      "execution_count": null,
      "outputs": []
    },
    {
      "cell_type": "markdown",
      "source": [
        "#Listas por Compreensão:"
      ],
      "metadata": {
        "id": "ffEKF4Kx5eQu"
      }
    },
    {
      "cell_type": "markdown",
      "source": [
        "Crie uma lista com os números Impares de 1 a 20 utilizando listas por compreensão."
      ],
      "metadata": {
        "id": "IrQvRhQM5oj6"
      }
    },
    {
      "cell_type": "code",
      "source": [
        "lista_impares = [i for i in range(21) if i % 2 != 0]\n",
        "print(lista_impares)\n",
        "\n",
        "\n"
      ],
      "metadata": {
        "id": "lqgX2B6x5fLc",
        "outputId": "b6d92ca5-5210-4b16-e6c3-ccb9a7c363d1",
        "colab": {
          "base_uri": "https://localhost:8080/"
        }
      },
      "execution_count": 36,
      "outputs": [
        {
          "output_type": "stream",
          "name": "stdout",
          "text": [
            "[1, 3, 5, 7, 9, 11, 13, 15, 17, 19]\n"
          ]
        }
      ]
    },
    {
      "cell_type": "markdown",
      "source": [
        "Crie uma lista com as letras da frase \"Sou estudante de dados\", utilizando listas por compreensão."
      ],
      "metadata": {
        "id": "R2DKj08Z5tqJ"
      }
    }
  ]
}