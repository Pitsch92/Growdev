{
  "nbformat": 4,
  "nbformat_minor": 0,
  "metadata": {
    "colab": {
      "provenance": []
    },
    "kernelspec": {
      "name": "python3",
      "display_name": "Python 3"
    },
    "language_info": {
      "name": "python"
    }
  },
  "cells": [
    {
      "cell_type": "markdown",
      "source": [
        "![Growdev](https://www.growdev.com.br/assets/images/logo_growdev.png)"
      ],
      "metadata": {
        "id": "v8pFWwviib2C"
      }
    },
    {
      "cell_type": "markdown",
      "source": [
        "![Formação Engenharia de Dados](https://d335luupugsy2.cloudfront.net/cms/files/524558/1707226566/$occu5m8t1op)"
      ],
      "metadata": {
        "id": "6Tkl4_HxifXZ"
      }
    },
    {
      "cell_type": "markdown",
      "source": [
        "Este material tem como objetivo incentivar a prática dos conteúdos estudados até o momento, e a pesquisa. Tenha em consideração que o exercício foi pensado para incentivar a prática dos conteúdos estudados até então, porém aprender a pesquisar faz parte do processo de aprendizagem.\n",
        "\n",
        "Fique tranquilo, faça os exercícios com calma, e boa prática!\n"
      ],
      "metadata": {
        "id": "ty7Bzyl1i9bN"
      }
    },
    {
      "cell_type": "markdown",
      "source": [
        "#Orientações:\n",
        "\n",
        " - Faça uma copia deste arquivo\n",
        " - Após concluir os exercicios, suba seu exercicio para o GitHub e compartilhe o link no **google** Classroom\n"
      ],
      "metadata": {
        "id": "DU5-yCQwjx3V"
      }
    },
    {
      "cell_type": "markdown",
      "source": [
        "#Exercícios"
      ],
      "metadata": {
        "id": "EzT810tnlmfE"
      }
    },
    {
      "cell_type": "markdown",
      "source": [
        "\n",
        "1- Escrever um programa que lê 5 valores para a, um de cada vez, e conta quantos destes valores são negativos, escrevendo esta informação."
      ],
      "metadata": {
        "id": "p62-CTXgvn5E"
      }
    },
    {
      "cell_type": "code",
      "source": [
        "# inicializando variaveis\n",
        "a = 0\n",
        "contador = 0\n",
        "\n",
        "# loop para coletar os numeros\n",
        "for i in range(5):\n",
        "  a= int(input('Digite um valor'))\n",
        "  # if que indentifca e conta os negativos\n",
        "  if a < 0:\n",
        "    contador +=1\n",
        "  print(contador)"
      ],
      "metadata": {
        "id": "gU8NkXNYvmZv"
      },
      "execution_count": null,
      "outputs": []
    },
    {
      "cell_type": "markdown",
      "source": [],
      "metadata": {
        "id": "_ST1Z4wkjMzJ"
      }
    },
    {
      "cell_type": "markdown",
      "source": [
        "2 - A prefeitura de uma cidade fez uma pesquisa entre seus habitantes, coletando dados sobre o salário e número de filhos. A prefeitura deseja saber:\n",
        "\n",
        "a) média do salário da população;\n",
        "\n",
        "b) média do número de filhos;\n",
        "\n",
        "c) maior salário;\n",
        "\n",
        "d) percentual de pessoas com salário até R$2000,00.\n",
        "\n",
        "Escreva um programa que receba as informações necessárias de 5 pessoas conforme a descrição e responda às questões a, b, c e d anteriores.\n"
      ],
      "metadata": {
        "id": "59g_B9yRvqYS"
      }
    },
    {
      "cell_type": "code",
      "source": [
        "\n",
        "#variaveis para calculos\n",
        "soma_salarios = 0\n",
        "soma_filhos = 0\n",
        "num_sal_abaixo_2000 = 0\n",
        "maior_sal = 0\n",
        "\n",
        "# loop para coletar os dados\n",
        "for i in range(1,6,1):\n",
        "  salario = float(input('Digite seu salario'))\n",
        "  num_filhos = int(input('Digite quantos filhos tem:'))\n",
        "  soma_salarios += salario\n",
        "  soma_filhos += num_filhos\n",
        "  if salario > maior_sal:\n",
        "    maior_sal = salario\n",
        "  if salario < 2000:\n",
        "    num_sal_abaixo_2000 += 1\n",
        "\n",
        "\n",
        "print(f'A media dos salarios é {soma_salarios/i}')\n",
        "print(f'A media dos salarios é {soma_filhos/i}')\n",
        "print(f'O maior salario é {maior_sal}')\n",
        "print(f'O percentual de salarios abaixo de 2000 é de {(num_sal_abaixo_2000/i)*100}')\n"
      ],
      "metadata": {
        "id": "hz6OkEJBv52O"
      },
      "execution_count": null,
      "outputs": []
    },
    {
      "cell_type": "markdown",
      "source": [
        "3 - Chico tem 1,50 metro e cresce 2 centímetros por ano, enquanto Zé tem 1,10 metro e cresce 3 centímetros por ano. Construa um programa que calcule e imprima quantos anos serão necessários para que Zé seja maior que Chico."
      ],
      "metadata": {
        "id": "V-7kNtvtwDN1"
      }
    },
    {
      "cell_type": "code",
      "source": [
        "altura_chico = 150\n",
        "altura_ze = 110\n",
        "tempo_em_anos = 0\n",
        "\n",
        "while(altura_chico >= altura_ze):\n",
        "  altura_chico += 2\n",
        "  altura_ze += 3\n",
        "  tempo_em_anos += 1\n",
        "\n",
        "print(f'Chico vai ser maior do que Zé em {tempo_em_anos} anos')\n"
      ],
      "metadata": {
        "id": "Xlx4kqLpwE4L",
        "colab": {
          "base_uri": "https://localhost:8080/"
        },
        "outputId": "360904c6-c590-4a8f-fd17-c6264beadc9a"
      },
      "execution_count": 8,
      "outputs": [
        {
          "output_type": "stream",
          "name": "stdout",
          "text": [
            "Chico vai ser maior do que Zé em 41 anos\n"
          ]
        }
      ]
    },
    {
      "cell_type": "markdown",
      "source": [
        "4 - Em uma eleição presidencial existem quatro candidatos. Os votos são informados através de códigos. Os dados utilizados para a contagem dos votos obedecem à seguinte codificação:  \n",
        "\n",
        "1,2 = voto para os respectivos candidatos\n",
        "\n",
        "3 = voto nulo\n",
        "\n",
        "4 = voto em branco;\n",
        "\n",
        "Elabore um programa que leia o código de votação de 5 candidatos. Calcule e escreva:\n",
        "total de votos para cada candidato\n",
        "total de votos nulos\n",
        "total de votos em branco\n"
      ],
      "metadata": {
        "id": "BU7x-lumwGRO"
      }
    },
    {
      "cell_type": "code",
      "source": [
        "menu = 'Por favor, escolha uma opção:\\n1 - Cadidado João\\n2 - Candidato Maria\\n3 - Nulo\\n4 - Branco\\nSua escolha:'\n",
        "contagem_cadidato_1 = 0\n",
        "contagem_cadidato_2 = 0\n",
        "contagem_nulo = 0\n",
        "contagem_branco = 0\n",
        "contagem_eleitores = 0\n",
        "escolha_eleicao = True\n",
        "\n",
        "while(contagem_eleitores < 5):\n",
        "  escolha_eleicao = int(input(print(menu)))\n",
        "  if(escolha_eleicao < 5 and escolha_eleicao > 0):\n",
        "    contagem_eleitores += 1\n",
        "    match escolha_eleicao:\n",
        "      case 1:\n",
        "        contagem_cadidato_1 += 1\n",
        "      case 2:\n",
        "        contagem_cadidato_2 += 1\n",
        "      case 3:\n",
        "        contagem_nulo += 1\n",
        "      case 4:\n",
        "        contagem_branco += 1\n",
        "  else:\n",
        "    print('Número invalido')\n",
        "\n",
        "\n",
        "print(f'Cadidado João:{contagem_cadidato_1}\\nCandidato Maria:{contagem_cadidato_2}\\nNulo:{contagem_nulo}\\nBranco:{contagem_branco}\\n')\n",
        "\n",
        "\n"
      ],
      "metadata": {
        "id": "tnOkAb44wQo5"
      },
      "execution_count": null,
      "outputs": []
    },
    {
      "cell_type": "markdown",
      "source": [
        "5 - Escreva um programa que receba o nome de 10 pessoas e para cada pessoa, o lugar para o qual ela já viajou. Sendo que existem 3 possibilidades:\n",
        "\n",
        "Rio de Janeiro\n",
        "\n",
        "Bahia\n",
        "\n",
        "Minas Gerais\n",
        "\n",
        "Após, informar qual foi o destino mais visitado e qual o menos visitado.\n"
      ],
      "metadata": {
        "id": "oNyazyHPwzlo"
      }
    },
    {
      "cell_type": "code",
      "source": [
        "opcoes_de_viagem = 'Para qual lugar já viajou:\\n1 - Rio de Janeiro\\n2 - Bahia\\n3 - Minas Gerais\\n'\n",
        "nome = True\n",
        "escolha_destino = True\n",
        "contagem_pessoas = 0\n",
        "contagem_rio_de_janeiro = 0\n",
        "contagem_bahia = 0\n",
        "contagem_minas_gerais = 0\n",
        "destino_mais_visitado = True\n",
        "destino_menos_visitado = True\n",
        "max_visitas = 0\n",
        "min_visitas = True\n",
        "\n",
        "\n",
        "while(contagem_pessoas < 10):\n",
        "  nome = input('Digite seu nome:')\n",
        "  escolha_destino = int(input(opcoes_de_viagem))\n",
        "  if(escolha_destino < 4 and escolha_destino > 0):\n",
        "    contagem_pessoas += 1\n",
        "    match escolha_destino:\n",
        "      case 1:\n",
        "        contagem_rio_de_janeiro += 1\n",
        "      case 2:\n",
        "        contagem_bahia += 1\n",
        "      case 3:\n",
        "        contagem_minas_gerais += 1\n",
        "  else:\n",
        "    print('Número invalido')\n",
        "\n",
        "destinos = {'Rio de Janeiro':contagem_rio_de_janeiro, 'Bahia':contagem_bahia, 'Minas Gerais': contagem_minas_gerais}\n",
        "\n",
        "\n",
        "for destino, visitas in destinos.items():\n",
        "  if(visitas>max_visitas):\n",
        "    max_visitas = visitas\n",
        "    destino_mais_visitado = destino\n",
        "  if(visitas == True):\n",
        "    min_visitas = visitas\n",
        "    destino_menos_visitado = destino\n",
        "  elif(visitas<min_visitas):\n",
        "    min_visitas = visitas\n",
        "    destino_menos_visitado = destino\n",
        "\n",
        "\n",
        "print(f'Destino mais visitado é {destino_mais_visitado}')\n",
        "print(f'Destino menos visitado é {destino_menos_visitado}')\n"
      ],
      "metadata": {
        "id": "FzTr2EY1w2Ey"
      },
      "execution_count": null,
      "outputs": []
    },
    {
      "cell_type": "markdown",
      "source": [
        "6 -  A série de Fibonacci é formada pela sequência 1,1,2,3,5,8,13,21,34,55,... Faça um programa capaz de gerar a série até o n−ésimo termo."
      ],
      "metadata": {
        "id": "HVJPsqTcw95-"
      }
    },
    {
      "cell_type": "code",
      "source": [
        "numero_escolhido = int(input('Digite o numero até onde deve ir a série de Fibonacci'))\n",
        "numero_1 = 0\n",
        "numero_2 = 1\n",
        "numero_int = True\n",
        "\n",
        "for i in range(numero_escolhido):\n",
        "  print(numero_2)\n",
        "  numero_int = numero_2+numero_1\n",
        "  numero_1 = numero_2\n",
        "  numero_2 = numero_int\n",
        "\n"
      ],
      "metadata": {
        "id": "ZwgmpSgGw-v3"
      },
      "execution_count": null,
      "outputs": []
    },
    {
      "cell_type": "markdown",
      "source": [
        "7 - Escreva um programa que conte em ordem reversa, de 25 a zero."
      ],
      "metadata": {
        "id": "DaF7vXEWxB6R"
      }
    },
    {
      "cell_type": "code",
      "source": [
        "for i in range(26):\n",
        "  print(25-i)\n"
      ],
      "metadata": {
        "id": "2AYe_lX2xCdj",
        "colab": {
          "base_uri": "https://localhost:8080/"
        },
        "outputId": "9303992a-2ebe-4065-9b96-e26823f78760"
      },
      "execution_count": 38,
      "outputs": [
        {
          "output_type": "stream",
          "name": "stdout",
          "text": [
            "25\n",
            "24\n",
            "23\n",
            "22\n",
            "21\n",
            "20\n",
            "19\n",
            "18\n",
            "17\n",
            "16\n",
            "15\n",
            "14\n",
            "13\n",
            "12\n",
            "11\n",
            "10\n",
            "9\n",
            "8\n",
            "7\n",
            "6\n",
            "5\n",
            "4\n",
            "3\n",
            "2\n",
            "1\n",
            "0\n"
          ]
        }
      ]
    },
    {
      "cell_type": "markdown",
      "source": [
        "8 - Crie um programa para que retorne o somatório de todos os números entre 1 e um valor fornecido pelo usuário. Por exemplo, se o usuário fornecer o número 4, o computador deverá calcular o somatório 1+ 2 + 3 + 4 = 10."
      ],
      "metadata": {
        "id": "Oc2yjIGqxF3h"
      }
    },
    {
      "cell_type": "code",
      "source": [
        "numero = int(input('Digite um numero:'))\n",
        "soma = 0\n",
        "for i in range(numero+1):\n",
        "  soma += i\n",
        "\n",
        "print(soma)\n"
      ],
      "metadata": {
        "id": "m5gfIfomxGwe"
      },
      "execution_count": null,
      "outputs": []
    },
    {
      "cell_type": "markdown",
      "source": [
        "9 - Escreva um programa que leia a idade e salário de 10 pessoas. Informe em seguida:\n",
        "Qual é a média de idade entre as pessoas?\n",
        "Quantas pessoas há por faixa etária, considerando:\n",
        "jovens < 18\n",
        "18 <= adultos < 60\n",
        "idosos >= 60\n",
        "Em seguida, mostre qual é a faixa etária que acumula o maior salário.\n"
      ],
      "metadata": {
        "id": "5D368hETyJQh"
      }
    },
    {
      "cell_type": "code",
      "source": [
        "idade = 0\n",
        "salario = 0\n",
        "media = 0\n",
        "contagem_jovens = 0\n",
        "contagem_adultos = 0\n",
        "contagem_idosos = 0\n",
        "max_salario_jovens = 0\n",
        "max_salario_adultos = 0\n",
        "max_salario_idosos = 0\n",
        "max_salario = 0\n",
        "faixa_etaria_top_salario = True\n",
        "\n",
        "for i in range(3):\n",
        "  idade = int(input('Digite sua idade'))\n",
        "  salario = int(input('Digite seu salario'))\n",
        "  if(idade<18):\n",
        "    contagem_jovens += 1\n",
        "    if(salario>max_salario_jovens):\n",
        "      max_salario_jovens = salario\n",
        "  elif(idade<60):\n",
        "    contagem_adultos += 1\n",
        "    if(salario>max_salario_adultos):\n",
        "      max_salario_adultos = salario\n",
        "  else:\n",
        "    contagem_idosos += 1\n",
        "    if(salario>max_salario_idosos):\n",
        "      max_salario_idosos = salario\n",
        "\n",
        "salarios = {'Jovens':max_salario_jovens, 'Adultos': max_salario_adultos, 'Idosos': max_salario_idosos}\n",
        "\n",
        "for faixa_etaria, salario_faixa_etaria in salarios.items():\n",
        "  if(salario> max_salario):\n",
        "    max_salario = salario_faixa_etaria\n",
        "    faixa_etaria_top_salario = faixa_etaria\n",
        "\n",
        "print(f'Pessoal por faixa etaria:\\nJovens:{contagem_jovens}\\nAdultos:{contagem_adultos}\\nIdosos:{contagem_idosos}\\nFaixa etaria com o maior salario:{faixa_etaria_top_salario}')\n",
        "\n"
      ],
      "metadata": {
        "id": "zZsS7JHm0UY6",
        "colab": {
          "base_uri": "https://localhost:8080/"
        },
        "outputId": "f8b49657-a919-4605-bdff-0e5693eef5a2"
      },
      "execution_count": 51,
      "outputs": [
        {
          "output_type": "stream",
          "name": "stdout",
          "text": [
            "Digite sua idade12\n",
            "Digite seu salario1000\n",
            "Digite sua idade18\n",
            "Digite seu salario3000\n",
            "Digite sua idade70\n",
            "Digite seu salario1500\n",
            "Pessoal por faixa etaria:\n",
            "Jovens:1\n",
            "Adultos:1\n",
            "Idosos:1\n",
            "Faixa etaria com o maior salario:Adultos\n"
          ]
        }
      ]
    },
    {
      "cell_type": "markdown",
      "source": [
        "10 - Crie uma calculadora simples que realiza operações de adição, subtração, multiplicação, divisão e exponenciação. O programa deve continuar pedindo operações até que o usuário escolha sair.Exemplo de saída:"
      ],
      "metadata": {
        "id": "L4xlYJzdhZyV"
      }
    },
    {
      "cell_type": "code",
      "source": [
        "menu_operação = 'Por favor, escolha uma opção:\\n1 - Soma\\n2 - Subtração\\n3 - Multiplicação\\n4 - Divisão\\n5 - Exponenciação\\n6 - Sair\\n Sua escolha:'\n",
        "\n",
        "numero = 0\n",
        "resultado = 0\n",
        "operacao = 0\n",
        "\n",
        "resultado = float(input('Digite um numero:'))\n",
        "\n",
        "while(operacao != 6):\n",
        "  operacao = int(input(menu_operação))\n",
        "\n",
        "\n",
        "  match operacao:\n",
        "    case 1:\n",
        "      numero = float(input('Digite o proximo numero'))\n",
        "      resultado = resultado+numero\n",
        "      print(resultado)\n",
        "    case 2:\n",
        "      numero = float(input('Digite o proximo numero'))\n",
        "      resultado = resultado-numero\n",
        "      print(resultado)\n",
        "    case 3:\n",
        "      numero = float(input('Digite o proximo numero'))\n",
        "      resultado = resultado*numero\n",
        "      print(resultado)\n",
        "    case 4:\n",
        "      numero = float(input('Digite o proximo numero'))\n",
        "      resultado = resultado/numero\n",
        "      print(resultado)\n",
        "    case 5:\n",
        "      numero = float(input('Digite o proximo numero'))\n",
        "      resultado = resultado**numero\n",
        "      print(resultado)\n",
        "\n",
        "\n",
        "\n",
        "\n",
        "\n",
        "\n"
      ],
      "metadata": {
        "id": "t1GTUaOshazK",
        "colab": {
          "base_uri": "https://localhost:8080/"
        },
        "outputId": "07d132bc-4cd5-4821-bc90-5e6dbaea8e76"
      },
      "execution_count": 55,
      "outputs": [
        {
          "name": "stdout",
          "output_type": "stream",
          "text": [
            "Digite um numero:1\n",
            "Por favor, escolha uma opção:\n",
            "1 - Soma\n",
            "2 - Subtração\n",
            "3 - Multiplicação\n",
            "4 - Divisão\n",
            "5 - Exponenciação\n",
            "6 - Sair\n",
            " Sua escolha:6\n"
          ]
        }
      ]
    },
    {
      "cell_type": "markdown",
      "source": [
        "11 - Crie um jogo em que o computador escolha um número aleatório entre 1 e 100, e o jogador tenta adivinhá-lo. O programa deve dar dicas se o número é maior ou menor do que o número digitado pelo jogador. O jogo continua até que o jogador acerte o número."
      ],
      "metadata": {
        "id": "TvOVLvpYhohk"
      }
    },
    {
      "cell_type": "markdown",
      "source": [
        "Exemplo de saída:\n",
        "\n",
        "Bem-vindo ao jogo de adivinhação!\n",
        "\n",
        "Tente adivinhar o número entre 1 e 100.\n",
        "\n",
        "Digite sua tentativa: 50\n",
        "\n",
        "O número é menor.\n",
        "\n",
        "Digite sua tentativa: 75\n",
        "\n",
        "O número é maior.\n",
        "\n",
        "Digite sua tentativa: 63\n",
        "\n",
        "O número é menor.\n",
        "\n",
        "Digite sua tentativa: 68\n",
        "\n",
        "Parabéns! Você acertou o número 68 em 4 tentativas!"
      ],
      "metadata": {
        "id": "GMjNhBcxo3ks"
      }
    },
    {
      "cell_type": "code",
      "source": [
        "import random\n",
        "\n",
        "numero_aleatorio = random. randint(1, 100)\n",
        "vitoria = True\n",
        "numero_tentativa = True\n",
        "\n",
        "print(numero_aleatorio)\n",
        "\n",
        "while(vitoria):\n",
        "  numero_tentativa = int(input('Digite a sua tentativa: '))\n",
        "  if (numero_tentativa == numero_aleatorio):\n",
        "    print(f'Parabens voce acertou, o numero é {numero_aleatorio}')\n",
        "    vitoria = False\n",
        "  else:\n",
        "    if(numero_tentativa>numero_aleatorio):\n",
        "      print('O numero é menor')\n",
        "    else:\n",
        "      print('O numero é maior')\n"
      ],
      "metadata": {
        "id": "wD7WVTzdh3Tf",
        "colab": {
          "base_uri": "https://localhost:8080/"
        },
        "outputId": "62c826ba-dd5b-4b29-fcf1-aff3f909c8f8"
      },
      "execution_count": 59,
      "outputs": [
        {
          "output_type": "stream",
          "name": "stdout",
          "text": [
            "86\n",
            "Digite a sua tentativa: 10\n",
            "O numero é maior\n",
            "Digite a sua tentativa: 14\n",
            "O numero é maior\n",
            "Digite a sua tentativa: 99\n",
            "O numero é menor\n",
            "Digite a sua tentativa: 86\n",
            "Parabens voce acertou, o numero é 86\n"
          ]
        }
      ]
    },
    {
      "cell_type": "markdown",
      "source": [
        "12 - Escreva um programa que calcula o valor de um investimento após um número específico de anos, considerando juros compostos. O usuário deve fornecer o principal (valor inicial do investimento), a taxa de juros anual (em porcentagem) e o número de anos.\n",
        "\n",
        "A fórmula para calcular o valor de um investimento após n anos com juros compostos é:\n",
        "\n",
        "A=P×(1+r)^n\n",
        "\n",
        "\n",
        "Onde:\n",
        "\n",
        "\n",
        "A é o valor do investimento após n anos,\n",
        "\n",
        "P é o principal (valor inicial do investimento),\n",
        "\n",
        "r é a taxa de juros anual (em decimal), e\n",
        "\n",
        "n é o número de anos."
      ],
      "metadata": {
        "id": "528JJZodmafY"
      }
    },
    {
      "cell_type": "markdown",
      "source": [
        "\n",
        "Exemplo de saída:\n",
        "\n",
        "Digite o principal (R$): 1000\n",
        "\n",
        "Digite a taxa de juros anual (%): 5\n",
        "\n",
        "Digite o número de anos: 10\n",
        "\n",
        "O valor do investimento após 10 anos é: R$ 1628.89"
      ],
      "metadata": {
        "id": "-6opTpcXoxNw"
      }
    },
    {
      "cell_type": "code",
      "source": [
        "investimento = float(input('Digite o valor que deseja investir:'))\n",
        "juros = float(input('Digite a taxa de juros anual'))\n",
        "anos = int(input(\"Digite o numero de anos que vai deixar investido\"))\n",
        "\n",
        "resultado = investimento*(1+(juros/100))**anos\n",
        "\n",
        "print(f'O retorno esperado desse investimento é {resultado}')"
      ],
      "metadata": {
        "id": "3XHAThk1oFIT"
      },
      "execution_count": null,
      "outputs": []
    }
  ]
}