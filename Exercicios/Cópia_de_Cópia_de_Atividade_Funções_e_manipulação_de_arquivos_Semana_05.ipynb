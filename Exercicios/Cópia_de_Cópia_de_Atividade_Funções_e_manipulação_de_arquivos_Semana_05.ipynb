{
  "nbformat": 4,
  "nbformat_minor": 0,
  "metadata": {
    "colab": {
      "provenance": []
    },
    "kernelspec": {
      "name": "python3",
      "display_name": "Python 3"
    },
    "language_info": {
      "name": "python"
    }
  },
  "cells": [
    {
      "cell_type": "markdown",
      "source": [
        "![Growdev](https://www.growdev.com.br/assets/images/logo_growdev.png)"
      ],
      "metadata": {
        "id": "v8pFWwviib2C"
      }
    },
    {
      "cell_type": "markdown",
      "source": [
        "![Formação Engenharia de Dados](https://d335luupugsy2.cloudfront.net/cms/files/524558/1707226566/$occu5m8t1op)"
      ],
      "metadata": {
        "id": "6Tkl4_HxifXZ"
      }
    },
    {
      "cell_type": "markdown",
      "source": [
        "Este material tem como objetivo incentivar a prática dos conteúdos estudados até o momento, e a pesquisa. Tenha em consideração que o exercício foi pensado para incentivar a prática dos conteúdos estudados até então, porém aprender a pesquisar faz parte do processo de aprendizagem.\n",
        "\n",
        "Fique tranquilo, faça os exercícios com calma, e boa prática!\n"
      ],
      "metadata": {
        "id": "ty7Bzyl1i9bN"
      }
    },
    {
      "cell_type": "markdown",
      "source": [
        "#Orientações:\n",
        "\n",
        " - Faça uma copia deste arquivo\n",
        " - Após concluir os exercicios, suba seu exercicio para o GitHub e compartilhe o link no **google** Classroom\n"
      ],
      "metadata": {
        "id": "DU5-yCQwjx3V"
      }
    },
    {
      "cell_type": "markdown",
      "source": [
        "#Exercícios"
      ],
      "metadata": {
        "id": "EzT810tnlmfE"
      }
    },
    {
      "cell_type": "markdown",
      "source": [
        "#Funções"
      ],
      "metadata": {
        "id": "rDqBAimhSq_C"
      }
    },
    {
      "cell_type": "markdown",
      "source": [
        "Escreva uma função chamada soma que recebe dois números como parâmetros e retorna a soma deles"
      ],
      "metadata": {
        "id": "AkBqdNST8bCY"
      }
    },
    {
      "cell_type": "code",
      "source": [
        "def soma(num_1, num_2):\n",
        "  soma = num_1 + num_2\n",
        "  return soma"
      ],
      "metadata": {
        "id": "J427Pi2p8THC"
      },
      "execution_count": null,
      "outputs": []
    },
    {
      "cell_type": "code",
      "source": [
        "soma(3,4)"
      ],
      "metadata": {
        "colab": {
          "base_uri": "https://localhost:8080/"
        },
        "id": "JQQRjAN0wNg_",
        "outputId": "e6ed2174-4657-4107-ca68-b11e1ad3be93"
      },
      "execution_count": null,
      "outputs": [
        {
          "output_type": "execute_result",
          "data": {
            "text/plain": [
              "7"
            ]
          },
          "metadata": {},
          "execution_count": 2
        }
      ]
    },
    {
      "cell_type": "markdown",
      "source": [
        "Escreva uma função chamada verificar_paridade que recebe um número como parâmetro e retorna True se for par e False se for ímpar."
      ],
      "metadata": {
        "id": "NAa3MBAM830W"
      }
    },
    {
      "cell_type": "code",
      "source": [
        "def verificar_pariedade(numero):\n",
        "  if numero % 2 == 0:\n",
        "    return True\n",
        "  else:\n",
        "    return False"
      ],
      "metadata": {
        "id": "CRlV5NE82kpE"
      },
      "execution_count": null,
      "outputs": []
    },
    {
      "cell_type": "code",
      "source": [
        "verificar_pariedade(7)"
      ],
      "metadata": {
        "colab": {
          "base_uri": "https://localhost:8080/"
        },
        "id": "tXOQ9Pv7wiKl",
        "outputId": "b047543a-0451-4c7c-9a4b-222464aa28e5"
      },
      "execution_count": null,
      "outputs": [
        {
          "output_type": "execute_result",
          "data": {
            "text/plain": [
              "False"
            ]
          },
          "metadata": {},
          "execution_count": 7
        }
      ]
    },
    {
      "cell_type": "markdown",
      "source": [
        "Escreva uma função chamada verificar_palindromo que recebe uma string como parâmetro e retorna True se for um palíndromo (uma palavra que é igual se lida da esquerda para a direita e vice-versa) e False caso contrário."
      ],
      "metadata": {
        "id": "S7Rh1p4N8_dp"
      }
    },
    {
      "cell_type": "code",
      "source": [
        "def verificar_palindromo(nome):\n",
        "  letras = []\n",
        "  for caractere in nome:\n",
        "    letras.append(caractere)\n",
        "  meio = len(letras) // 2\n",
        "  metade_inicial = letras[0:meio]\n",
        "  metade_final = (letras[(meio+1):len(letras)])\n",
        "  metade_final.reverse()\n",
        "  if metade_inicial == metade_final:\n",
        "    return True\n",
        "  else:\n",
        "    return False\n"
      ],
      "metadata": {
        "id": "jY3rGEWc9Gb5"
      },
      "execution_count": null,
      "outputs": []
    },
    {
      "cell_type": "code",
      "source": [
        "verificar_palindromo('natan')"
      ],
      "metadata": {
        "colab": {
          "base_uri": "https://localhost:8080/"
        },
        "id": "0zQttKeayjt6",
        "outputId": "557b4cae-ef39-449b-dd15-f78ee1a4fbe0"
      },
      "execution_count": null,
      "outputs": [
        {
          "output_type": "execute_result",
          "data": {
            "text/plain": [
              "True"
            ]
          },
          "metadata": {},
          "execution_count": 42
        }
      ]
    },
    {
      "cell_type": "markdown",
      "source": [
        "##Desafio listas e funções:"
      ],
      "metadata": {
        "id": "suLU217H9G51"
      }
    },
    {
      "cell_type": "markdown",
      "source": [
        "Crie uma função que representa o jogo batalha naval.\n",
        "\n",
        "Dentro da função crie uma estrutura bidimensional utilizando listas com sublistas para representar um tabuleiro (1 lista com 20 elementos e cada elemento é uma lista de 20 elementos, tabuleiro 20x20). Cada posição irá armazenar 1 valor numérico que significa:\n",
        "- 0 - Água\n",
        "- 1 - Navio\n",
        "\n",
        "Para cada posição escolha esses valores aleatoriamente, respeitando a regra de que não podem existir mais de 20 navios no tabuleiro.\n",
        "\n",
        "Após os valores serem distribuídos, o programa deve pedir ao usuário uma posição do tabuleiro e informar se ele acertou um navio ou água e repetir o procedimento até que o usuário derrote todos os navios ou chegue ao limite de 35 tentativas.\n",
        "\n"
      ],
      "metadata": {
        "id": "zv3Edx_T-TF5"
      }
    },
    {
      "cell_type": "code",
      "source": [],
      "metadata": {
        "id": "BhHWwg54-H1j"
      },
      "execution_count": null,
      "outputs": []
    },
    {
      "cell_type": "code",
      "execution_count": null,
      "metadata": {
        "id": "7gXsdxsWzY1t"
      },
      "outputs": [],
      "source": [
        "import random\n",
        "tabuleiro = []\n",
        "navios = 0\n",
        "agua = 0\n",
        "acerto_navio = 0\n",
        "contagem = 0\n",
        "lista_disparos = []\n",
        "sequencia_disparos = []\n",
        "\n",
        "def construir_tabuleiro(numero_de_linhas_e_colunas):\n",
        "  for a in range(numero_de_linhas_e_colunas):\n",
        "    linhas = []\n",
        "    for b in range(numero_de_linhas_e_colunas):\n",
        "      linhas.append(0)\n",
        "    tabuleiro.append(linhas)\n",
        "\n",
        "def inserir_navios(numero_de_navios):\n",
        "  global navios\n",
        "  while(navios < numero_de_navios):\n",
        "    y_aleatorio = random.randint(0, (numero_de_navios-1))\n",
        "    x_aleatorio = random.randint(0, (numero_de_navios-1))\n",
        "\n",
        "    if tabuleiro[x_aleatorio][y_aleatorio] == 0:\n",
        "      tabuleiro[x_aleatorio][y_aleatorio] = 1\n",
        "      navios += 1\n",
        "  print(f'{navios} navios')\n",
        "\n",
        "\n",
        "def jogar(numero_de_jogadas):\n",
        "  global contagem\n",
        "  global navios\n",
        "  global lista_disparos\n",
        "  global acerto_navio\n",
        "  global agua\n",
        "  contagem = 0\n",
        "  while(navios>0 and contagem<numero_de_jogadas):\n",
        "    linha_disparo = int(input(\"Digite a Linha que deseja acertar\")) -1\n",
        "    coluna_disparo = int(input(\"Digite a Coluna que deseja acertar\")) -1\n",
        "\n",
        "    if tabuleiro[linha_disparo][coluna_disparo] == 1:\n",
        "      print(\"Navio afundado\")\n",
        "      navios -=1\n",
        "      acerto_navio +=1\n",
        "      lista_disparos.append(1)\n",
        "      tabuleiro[linha_disparo][coluna_disparo] ='X'\n",
        "      print(f'{navios} faltando')\n",
        "    else:\n",
        "      tabuleiro[linha_disparo][coluna_disparo] ='x'\n",
        "      agua +=1\n",
        "      lista_disparos.append(0)\n",
        "      print('Errou!')\n",
        "    contagem += 1\n",
        "  if navios == 0:\n",
        "    print(f'Parabens! Você afundou todos os navios com {contagem} disparos!')\n",
        "  else:\n",
        "    print(f'Após {contagem} disparos, faltaram afundar {navios} navios.')\n",
        "    print('Observe o mapa:')\n",
        "\n",
        "  for a in tabuleiro:\n",
        "    print(a)\n",
        "\n",
        "def verificar_sequencia():\n",
        "  sequencia = 0\n",
        "  for i in lista_disparos:\n",
        "      if i == 1:\n",
        "        sequencia +=1\n",
        "        print(sequencia)\n",
        "        sequencia_disparos.append(sequencia)\n",
        "        print(sequencia_disparos)\n",
        "      else:\n",
        "        sequencia = 0\n",
        "\n",
        "  if not sequencia_disparos:\n",
        "    return 0\n",
        "  else:\n",
        "    return max(sequencia_disparos)\n",
        "\n",
        "def dados():\n",
        "  print(f'Foram {agua} disparos na água, com {(agua/contagem)*100}%.')\n",
        "  print(f'Foram {acerto_navio} disparos em navios, com {(acerto_navio/contagem)*100}%.')\n",
        "  print(f'Foram {verificar_sequencia()} acertos consecutivos')\n",
        "\n"
      ]
    },
    {
      "cell_type": "code",
      "source": [
        "construir_tabuleiro(20)"
      ],
      "metadata": {
        "id": "IAWJAbGAuIXt"
      },
      "execution_count": null,
      "outputs": []
    },
    {
      "cell_type": "code",
      "source": [
        "inserir_navios(20)"
      ],
      "metadata": {
        "id": "sxSBTWnluQrZ"
      },
      "execution_count": null,
      "outputs": []
    },
    {
      "cell_type": "markdown",
      "source": [
        "Modifique o programa anterior para exibir as seguintes estatísticas.\n",
        "- Acertos em água\n",
        "- Acertos em Navios\n",
        "- Porcentagem de acertos em água\n",
        "- Porcentagem de acertos em Navios\n",
        "- Acertos ininterruptos (maior quantidade de acertos em sequência)"
      ],
      "metadata": {
        "id": "WUXJN6Dg_GET"
      }
    },
    {
      "cell_type": "code",
      "source": [
        "dados()"
      ],
      "metadata": {
        "id": "C582MwRfuTsv"
      },
      "execution_count": null,
      "outputs": []
    },
    {
      "cell_type": "code",
      "source": [],
      "metadata": {
        "id": "N5itlDvd_Hbi"
      },
      "execution_count": null,
      "outputs": []
    },
    {
      "cell_type": "markdown",
      "source": [
        "#Manipulação de arquivos: Conteudo será trabalhado na aula do"
      ],
      "metadata": {
        "id": "ffEKF4Kx5eQu"
      }
    },
    {
      "cell_type": "markdown",
      "source": [
        "UUtilize o arquivo ‘compras.csv’ como base para resolver os seguintes exercícios.  disponivel em: https://drive.google.com/file/d/1cqqr7kWuBYYJxJ8W_-KHmcZHs6sfV_is/view"
      ],
      "metadata": {
        "id": "IrQvRhQM5oj6"
      }
    },
    {
      "cell_type": "markdown",
      "source": [
        "Utilize as seguintes faixas etárias nos exercícios em que for necessário.\n",
        "- Jovens, 18 a 25 anos\n",
        "- Adultos, 26 a 59 anos\n",
        "- Idosos, igual ou maior que 60 anos\n"
      ],
      "metadata": {
        "id": "J8g6sYrl3Xjg"
      }
    },
    {
      "cell_type": "markdown",
      "source": [
        "Func lista"
      ],
      "metadata": {
        "id": "ZJpTRgx3XdQd"
      }
    },
    {
      "cell_type": "code",
      "source": [
        "import csv\n",
        "\n",
        "def ler_csv_para_lista(caminho_arquivo):\n",
        "    dados = []\n",
        "    with open(caminho_arquivo, newline='', encoding='utf-8') as csvfile:\n",
        "        leitor = csv.reader(csvfile)\n",
        "        cabecalho = next(leitor)\n",
        "        for linha in leitor:\n",
        "            dados.append(linha)\n",
        "    return cabecalho, dados"
      ],
      "metadata": {
        "id": "Jh8PRzZpUaIZ"
      },
      "execution_count": null,
      "outputs": []
    },
    {
      "cell_type": "code",
      "source": [
        "cabecalho, dados = ler_csv_para_lista('/compras.csv')"
      ],
      "metadata": {
        "id": "b1l4pxW4Ubwe"
      },
      "execution_count": null,
      "outputs": []
    },
    {
      "cell_type": "code",
      "source": [
        "import os\n",
        "os.getcwd()"
      ],
      "metadata": {
        "id": "dfQNMo-8OMea",
        "outputId": "e5f324fd-b3be-4aaa-d8d3-e577e13ccbdb",
        "colab": {
          "base_uri": "https://localhost:8080/",
          "height": 35
        }
      },
      "execution_count": null,
      "outputs": [
        {
          "output_type": "execute_result",
          "data": {
            "text/plain": [
              "'/content'"
            ],
            "application/vnd.google.colaboratory.intrinsic+json": {
              "type": "string"
            }
          },
          "metadata": {},
          "execution_count": 6
        }
      ]
    },
    {
      "cell_type": "markdown",
      "source": [
        "func dic"
      ],
      "metadata": {
        "id": "51LKHrRRXfhF"
      }
    },
    {
      "cell_type": "code",
      "source": [
        "import csv\n",
        "\n",
        "def ler_csv_para_dicionario(caminho_arquivo =\"/content/compras.csv\"):\n",
        "    dados = {}\n",
        "    with open(caminho_arquivo, newline='', encoding='utf-8') as csvfile:\n",
        "        leitor = csv.reader(csvfile)\n",
        "        cabecalho = next(leitor)  # Lê a linha de cabeçalho\n",
        "\n",
        "        for i, linha in enumerate(leitor):\n",
        "            individuo = {cabecalho[j]: linha[j] for j in range(len(cabecalho))}\n",
        "            dados[i] = individuo\n",
        "\n",
        "    return dados\n"
      ],
      "metadata": {
        "id": "EdtiIwqKVjtQ"
      },
      "execution_count": null,
      "outputs": []
    },
    {
      "cell_type": "code",
      "source": [
        "dados_dicionario = ler_csv_para_dicionario('/content/compras.csv')"
      ],
      "metadata": {
        "id": "5_wCLU4DVlds"
      },
      "execution_count": null,
      "outputs": []
    },
    {
      "cell_type": "code",
      "source": [
        "import pprint"
      ],
      "metadata": {
        "id": "Ink56mcQVpNS"
      },
      "execution_count": null,
      "outputs": []
    },
    {
      "cell_type": "code",
      "source": [
        "pprint.pprint(dados_dicionario)"
      ],
      "metadata": {
        "id": "3fOHjPLVVq8B"
      },
      "execution_count": null,
      "outputs": []
    },
    {
      "cell_type": "markdown",
      "source": [
        "Procure quem foi a pessoa que mais gastou?"
      ],
      "metadata": {
        "id": "apGpARF-3nW9"
      }
    },
    {
      "cell_type": "markdown",
      "source": [
        "Com dic"
      ],
      "metadata": {
        "id": "lTCfBbOjXZYx"
      }
    },
    {
      "cell_type": "code",
      "source": [
        "def encontrar_maior_gasto(dados):\n",
        "    maior_gasto = 0\n",
        "    pessoa_maior_gasto = None\n",
        "\n",
        "    for individuo, info in dados.items():\n",
        "        gasto = float(info['compra'])\n",
        "        if gasto > maior_gasto:\n",
        "            maior_gasto = gasto\n",
        "            pessoa_maior_gasto = info\n",
        "    return pessoa_maior_gasto"
      ],
      "metadata": {
        "id": "EPX_3cU33XOh"
      },
      "execution_count": null,
      "outputs": []
    },
    {
      "cell_type": "code",
      "source": [
        "retorno = encontrar_maior_gasto(dados_dicionario)"
      ],
      "metadata": {
        "id": "lEohRvDSWYlJ"
      },
      "execution_count": null,
      "outputs": []
    },
    {
      "cell_type": "code",
      "source": [
        "retorno['nome']"
      ],
      "metadata": {
        "id": "C3capNR6K8T4"
      },
      "execution_count": null,
      "outputs": []
    },
    {
      "cell_type": "markdown",
      "source": [
        "Com lista"
      ],
      "metadata": {
        "id": "-WQ9JImSXa01"
      }
    },
    {
      "cell_type": "code",
      "source": [
        "def encontrar_maior_gasto_lista(cabecalho, dados):\n",
        "    indice_compra = cabecalho.index('compra')\n",
        "    maior_gasto = 0\n",
        "    pessoa_maior_gasto = None\n",
        "\n",
        "    for linha in dados:\n",
        "        gasto = float(linha[indice_compra])\n",
        "        if gasto > maior_gasto:\n",
        "            maior_gasto = gasto\n",
        "            pessoa_maior_gasto = linha\n",
        "\n",
        "    pessoa_info = {cabecalho[i]: pessoa_maior_gasto[i] for i in range(len(cabecalho))}\n",
        "    return pessoa_info"
      ],
      "metadata": {
        "id": "zTKcFQ6CXHDC"
      },
      "execution_count": null,
      "outputs": []
    },
    {
      "cell_type": "code",
      "source": [
        "encontrar_maior_gasto_lista(cabecalho, dados)"
      ],
      "metadata": {
        "id": "x4yRgjBfXOPF"
      },
      "execution_count": null,
      "outputs": []
    },
    {
      "cell_type": "markdown",
      "source": [
        "Busque quais são os anos da base de dados?"
      ],
      "metadata": {
        "id": "3PBqAffp3o9I"
      }
    },
    {
      "cell_type": "code",
      "source": [
        "def pegar_anos(dados):\n",
        "  years = []\n",
        "  for individuo, info in dados.items():\n",
        "    years.append(int(info['ano']))\n",
        "  return set(years)"
      ],
      "metadata": {
        "id": "lqgX2B6x5fLc"
      },
      "execution_count": null,
      "outputs": []
    },
    {
      "cell_type": "code",
      "source": [
        "pegar_anos(dados_dicionario)"
      ],
      "metadata": {
        "id": "0jgT8ZhUW_ZC"
      },
      "execution_count": null,
      "outputs": []
    },
    {
      "cell_type": "markdown",
      "source": [
        "Qual a porcentagem de homens e mulheres na base de dados?"
      ],
      "metadata": {
        "id": "R2DKj08Z5tqJ"
      }
    },
    {
      "cell_type": "code",
      "source": [
        "def lista_info_coluna(dados,coluna):\n",
        "  lista = []\n",
        "  for individuo, info in dados.items():\n",
        "    lista.append(info[coluna])\n",
        "  return lista"
      ],
      "metadata": {
        "id": "3wZDjRn03xB0"
      },
      "execution_count": null,
      "outputs": []
    },
    {
      "cell_type": "code",
      "source": [
        "def perncetual_sexo(dados):\n",
        "  lista = lista_info_coluna(dados, 'sexo')\n",
        "  num_mulher = lista.count('F')\n",
        "  num_homem = lista.count('M')\n",
        "  return print(f'{(num_homem/(num_homem+num_mulher))*100}% de homens e {(num_mulher/(num_homem+num_mulher))*100}% de mulheres')"
      ],
      "metadata": {
        "id": "POI-MBmdVA3g"
      },
      "execution_count": null,
      "outputs": []
    },
    {
      "cell_type": "code",
      "source": [
        "perncetual_sexo(dados_dicionario)"
      ],
      "metadata": {
        "id": "OySd0OKxVvXE"
      },
      "execution_count": null,
      "outputs": []
    },
    {
      "cell_type": "markdown",
      "source": [
        "Qual foi o gasto por ano?"
      ],
      "metadata": {
        "id": "Nou_jojr3ztM"
      }
    },
    {
      "cell_type": "code",
      "source": [
        "\n",
        "def gasto_ano(dados):\n",
        "  lista_anos = pegar_anos(dados)\n",
        "  dicionario_anos_gasto = {}\n",
        "  for ano in lista_anos:\n",
        "    dicionario_anos_gasto[ano] = 0\n",
        "    for individuo, info in dados.items():\n",
        "      if ano == int(info['ano']):\n",
        "        dicionario_anos_gasto[ano] = dicionario_anos_gasto[ano] + int(info['compra'])\n",
        "  return dicionario_anos_gasto\n"
      ],
      "metadata": {
        "id": "hjBuBCDb30YI"
      },
      "execution_count": null,
      "outputs": []
    },
    {
      "cell_type": "code",
      "source": [
        "gasto_ano(dados_dicionario)"
      ],
      "metadata": {
        "id": "o0BGOLzuatUt"
      },
      "execution_count": null,
      "outputs": []
    },
    {
      "cell_type": "markdown",
      "source": [
        "Qual foi o ano com maior gasto?"
      ],
      "metadata": {
        "id": "vgN3teMQ32pg"
      }
    },
    {
      "cell_type": "code",
      "source": [
        "def ano_maior_gasto(dados):\n",
        "  dicionario_gasto_anos = gasto_ano(dados)\n",
        "  maior_gasto = 0\n",
        "  ano_maior_gasto = 0\n",
        "  for ano, gasto in dicionario_gasto_anos.items():\n",
        "    if gasto > maior_gasto:\n",
        "      maior_gasto = gasto\n",
        "      ano_maior_gasto = ano\n",
        "  return ano_maior_gasto\n",
        "\n"
      ],
      "metadata": {
        "id": "JmN_ZHBV35ss"
      },
      "execution_count": null,
      "outputs": []
    },
    {
      "cell_type": "code",
      "source": [
        "ano_maior_gasto(dados_dicionario)"
      ],
      "metadata": {
        "id": "l6NQHMObeK_t"
      },
      "execution_count": null,
      "outputs": []
    },
    {
      "cell_type": "markdown",
      "source": [
        "Utilizando as faixas etárias, diga quantas pessoas há em cada faixa?"
      ],
      "metadata": {
        "id": "V_y9EX0p34-E"
      }
    },
    {
      "cell_type": "code",
      "source": [
        "def numero_faixa_etaria(dados):\n",
        "  lista_idades = lista_info_coluna(dados,'idade')\n",
        "  contador_jovem = 0\n",
        "  contador_idoso = 0\n",
        "  contador_adulto = 0\n",
        "  for idade in lista_idades:\n",
        "    if int(idade) < 25:\n",
        "      contador_jovem += 1\n",
        "    elif int(idade) < 60:\n",
        "      contador_adulto += 1\n",
        "    else:\n",
        "      contador_idoso += 1\n",
        "\n",
        "  return contador_jovem,contador_adulto,contador_idoso\n"
      ],
      "metadata": {
        "id": "ukkjPSE738r8"
      },
      "execution_count": null,
      "outputs": []
    },
    {
      "cell_type": "code",
      "source": [
        "numero_faixa_etaria(dados_dicionario)"
      ],
      "metadata": {
        "id": "2Hhk3v1lg8lO",
        "colab": {
          "base_uri": "https://localhost:8080/"
        },
        "outputId": "2f265f75-cea9-4f2d-ef7c-6f3711b61de0"
      },
      "execution_count": null,
      "outputs": [
        {
          "output_type": "execute_result",
          "data": {
            "text/plain": [
              "(636, 3372, 992)"
            ]
          },
          "metadata": {},
          "execution_count": 10
        }
      ]
    },
    {
      "cell_type": "markdown",
      "source": [
        "Qual é a faixa etária que mais gasta?"
      ],
      "metadata": {
        "id": "_7qmp-1y36Ac"
      }
    },
    {
      "cell_type": "code",
      "source": [
        "def faixa_etaria_maior_gasto(dados):\n",
        "  contador_jovem = 0\n",
        "  contador_adulto = 0\n",
        "  contador_idoso = 0\n",
        "  for individuo, info in dados.items():\n",
        "    idade = int(info['idade'])\n",
        "    compra = int(info['compra'])\n",
        "    if idade < 19:\n",
        "      contador_jovem += compra\n",
        "    elif idade < 60:\n",
        "      contador_adulto += compra\n",
        "    else:\n",
        "      contador_idoso += compra\n",
        "  if contador_jovem > contador_adulto and contador_jovem > contador_idoso:\n",
        "    return contador_jovem, 'Jovem'\n",
        "  elif contador_adulto > contador_jovem and contador_adulto > contador_idoso:\n",
        "    return contador_adulto, 'Adulto'\n",
        "  else:\n",
        "    return contador_idoso, 'Idoso'\n"
      ],
      "metadata": {
        "id": "O0_Wt4I838V0"
      },
      "execution_count": null,
      "outputs": []
    },
    {
      "cell_type": "code",
      "source": [
        "faixa_etaria_maior_gasto(dados_dicionario)"
      ],
      "metadata": {
        "colab": {
          "base_uri": "https://localhost:8080/"
        },
        "id": "hcnZ0Mdeh-tS",
        "outputId": "8f7de649-3881-4291-f892-9449c04022e1"
      },
      "execution_count": null,
      "outputs": [
        {
          "output_type": "execute_result",
          "data": {
            "text/plain": [
              "(20376883, 'Adulto')"
            ]
          },
          "metadata": {},
          "execution_count": 35
        }
      ]
    },
    {
      "cell_type": "markdown",
      "source": [
        "A opção de débito é mais utilizada entre homens ou mulheres?"
      ],
      "metadata": {
        "id": "L_EUiizw3-jM"
      }
    },
    {
      "cell_type": "code",
      "source": [
        "def maioria_sexo_debito(dados):\n",
        "  contador_homem = 0\n",
        "  contador_mulher = 0\n",
        "  for individuo, info in dados.items():\n",
        "    sexo = info['sexo']\n",
        "    pagamento = info['pagamento']\n",
        "    if sexo == 'M' and pagamento == 'debito':\n",
        "      contador_homem += 1\n",
        "    elif sexo == 'F' and pagamento == 'debito':\n",
        "      contador_mulher += 1\n",
        "  if contador_mulher>contador_homem:\n",
        "    print('Debito é mais utilizado por mulheres')\n",
        "  else:\n",
        "    print('Debito é mais utilizado por homens')\n"
      ],
      "metadata": {
        "id": "dIKB7PXj3_DE"
      },
      "execution_count": null,
      "outputs": []
    },
    {
      "cell_type": "code",
      "source": [
        "maioria_sexo_debito(dados_dicionario)"
      ],
      "metadata": {
        "colab": {
          "base_uri": "https://localhost:8080/"
        },
        "id": "Tu3xjP5G4pjH",
        "outputId": "e8cd8cf4-f37a-4a18-b8e7-47351e62c897"
      },
      "execution_count": null,
      "outputs": [
        {
          "output_type": "stream",
          "name": "stdout",
          "text": [
            "Debito é mais utilizado por homens\n"
          ]
        }
      ]
    },
    {
      "cell_type": "markdown",
      "source": [
        "Qual o sobrenome que mais aparece na base de dados?"
      ],
      "metadata": {
        "id": "jOMpl3Th4Bkm"
      }
    },
    {
      "cell_type": "code",
      "source": [
        "def sobrenome_mais_comum(dados):\n",
        "  maior_valor = 0\n",
        "  sobrenome_maior_valor = 0\n",
        "  dict_contagem_sobrenome = {}\n",
        "  for individuo, info in dados.items():\n",
        "    sobrenome = info['sobrenome']\n",
        "    if sobrenome not in dict_contagem_sobrenome.keys():\n",
        "      dict_contagem_sobrenome.update({sobrenome: 1})\n",
        "    else:\n",
        "      for sobrenome_contado in dict_contagem_sobrenome.keys():\n",
        "        if sobrenome == sobrenome_contado:\n",
        "          dict_contagem_sobrenome[sobrenome] += 1\n",
        "  for sm, valor in dict_contagem_sobrenome.items():\n",
        "    if valor > maior_valor:\n",
        "      maior_valor = valor\n",
        "      sobrenome_maior_valor = sm\n",
        "  return sobrenome_maior_valor"
      ],
      "metadata": {
        "id": "LDFe_62s4B_Q"
      },
      "execution_count": null,
      "outputs": []
    },
    {
      "cell_type": "code",
      "source": [
        "sobrenome_mais_comum(dados_dicionario)"
      ],
      "metadata": {
        "colab": {
          "base_uri": "https://localhost:8080/",
          "height": 35
        },
        "id": "sDUFwytv70-1",
        "outputId": "51c734e1-6e6d-4838-b75e-23121e56048e"
      },
      "execution_count": null,
      "outputs": [
        {
          "output_type": "execute_result",
          "data": {
            "text/plain": [
              "'Alves'"
            ],
            "application/vnd.google.colaboratory.intrinsic+json": {
              "type": "string"
            }
          },
          "metadata": {},
          "execution_count": 68
        }
      ]
    },
    {
      "cell_type": "markdown",
      "source": [
        "Qual foi o ano em que os homens mais usaram o crédito?"
      ],
      "metadata": {
        "id": "Q7VS9K_Q4ECM"
      }
    },
    {
      "cell_type": "code",
      "source": [
        "def ano_credito_homens(dados):\n",
        "  dict_ano_contagem = {}\n",
        "  maior_valor = 0\n",
        "  for individuo, info in dados.items():\n",
        "    pagamento = info['pagamento']\n",
        "    sexo = info['sexo']\n",
        "    ano = info['ano']\n",
        "    if pagamento == 'credito' and sexo == 'M':\n",
        "      if ano not in dict_ano_contagem.keys():\n",
        "        dict_ano_contagem.update({ano: 1})\n",
        "      else:\n",
        "        for ano_contado in dict_ano_contagem.keys():\n",
        "          if ano == ano_contado:\n",
        "            dict_ano_contagem[ano] += 1\n",
        "  for ac, valor in dict_ano_contagem.items():\n",
        "    if valor > maior_valor:\n",
        "      maior_valor = valor\n",
        "      ano_maior_valor = ac\n",
        "  return ano_maior_valor\n",
        "\n"
      ],
      "metadata": {
        "id": "5H60b3n64Ee0"
      },
      "execution_count": null,
      "outputs": []
    },
    {
      "cell_type": "code",
      "source": [
        "ano_credito_homens(dados_dicionario)"
      ],
      "metadata": {
        "colab": {
          "base_uri": "https://localhost:8080/",
          "height": 35
        },
        "id": "AzPtNqgzAeKA",
        "outputId": "30d77ed0-4781-48be-ce8e-3a406f726f76"
      },
      "execution_count": null,
      "outputs": [
        {
          "output_type": "execute_result",
          "data": {
            "text/plain": [
              "'2018'"
            ],
            "application/vnd.google.colaboratory.intrinsic+json": {
              "type": "string"
            }
          },
          "metadata": {},
          "execution_count": 79
        }
      ]
    },
    {
      "cell_type": "markdown",
      "source": [
        "Qual opção de pagamento é mais utilizada em cada faixa etária?"
      ],
      "metadata": {
        "id": "ebnmp5KD4GPw"
      }
    },
    {
      "cell_type": "code",
      "source": [
        "def faixa_etaria_maior_pagamento(dados):\n",
        "\n",
        "  dict_pagamento_max = {}\n",
        "  pagamento_jovens = []\n",
        "  pagamento_adultos = []\n",
        "  pagamento_idosos = []\n",
        "  valor_max = 0\n",
        "  pagamento_max = 0\n",
        "  dict_pagamentos_total = {'jovem': pagamento_jovens, 'adulto': pagamento_adultos, 'idoso': pagamento_idosos}\n",
        "  for individuo, info in dados.items():\n",
        "    idade = int(info['idade'])\n",
        "    pagamento = info['pagamento']\n",
        "    if idade < 19:\n",
        "      pagamento_jovens.append(pagamento)\n",
        "    elif idade < 60:\n",
        "       pagamento_adultos.append(pagamento)\n",
        "    else:\n",
        "      pagamento_idosos.append(pagamento)\n",
        "\n",
        "  tipos_pagamento = ['debito', 'credito', 'dinheiro']\n",
        "  for faixa_etaria, pagamentos in dict_pagamentos_total.items():\n",
        "    valor_max = 0\n",
        "    for tp in tipos_pagamento:\n",
        "      valor = pagamentos.count(tp)\n",
        "      if valor > valor_max:\n",
        "        valor_max = valor\n",
        "        pagamento_max = tp\n",
        "    dict_pagamento_max.update({faixa_etaria: pagamento_max})\n",
        "  return dict_pagamento_max"
      ],
      "metadata": {
        "id": "NumXkC5p4H7s"
      },
      "execution_count": null,
      "outputs": []
    },
    {
      "cell_type": "code",
      "source": [
        "faixa_etaria_maior_pagamento(dados_dicionario)"
      ],
      "metadata": {
        "colab": {
          "base_uri": "https://localhost:8080/"
        },
        "id": "8rCngEaqGus2",
        "outputId": "e5ad2854-8aff-4145-f6ce-20e805373536"
      },
      "execution_count": null,
      "outputs": [
        {
          "output_type": "execute_result",
          "data": {
            "text/plain": [
              "{'jovem': 'credito', 'adulto': 'debito', 'idoso': 'debito'}"
            ]
          },
          "metadata": {},
          "execution_count": 89
        }
      ]
    },
    {
      "cell_type": "markdown",
      "source": [
        "Qual o valor gasto em compras por jovens do ano de 2010 até 2015?"
      ],
      "metadata": {
        "id": "jRKhI6Dv4IQJ"
      }
    },
    {
      "cell_type": "code",
      "source": [
        "def compra_total_jovens_periodo(dados,ano_ini, ano_fin):\n",
        "  compra_jovens = []\n",
        "  for individuo, info in dados.items():\n",
        "    idade = int(info['idade'])\n",
        "    compra = int(info['compra'])\n",
        "    ano = int(info['ano'])\n",
        "    if idade < 19 and ano >= ano_ini and ano <= ano_fin :\n",
        "      compra_jovens.append(compra)\n",
        "  return sum(compra_jovens)"
      ],
      "metadata": {
        "id": "6SXstcF54Itk"
      },
      "execution_count": null,
      "outputs": []
    },
    {
      "cell_type": "code",
      "source": [
        "compra_total_jovens_periodo(dados_dicionario,2010,2015)"
      ],
      "metadata": {
        "colab": {
          "base_uri": "https://localhost:8080/"
        },
        "id": "kFcVBu4zI3IL",
        "outputId": "4e282ac7-7bdf-4d23-dca6-9ad55cfd8c30"
      },
      "execution_count": null,
      "outputs": [
        {
          "output_type": "execute_result",
          "data": {
            "text/plain": [
              "127216"
            ]
          },
          "metadata": {},
          "execution_count": 94
        }
      ]
    }
  ]
}