{
 "cells": [
  {
   "cell_type": "markdown",
   "metadata": {},
   "source": [
    "Exercicio 1"
   ]
  },
  {
   "cell_type": "code",
   "execution_count": 3,
   "metadata": {},
   "outputs": [
    {
     "name": "stdout",
     "output_type": "stream",
     "text": [
      "A temperatura é 32.0 Farenhight\n"
     ]
    }
   ],
   "source": [
    "tempC = float(input('Digite a temperatura em Celsius'))\n",
    "tempF = (9*tempC)/5 +32\n",
    "print(f'A temperatura é {tempF} Farenhight')"
   ]
  },
  {
   "cell_type": "code",
   "execution_count": 6,
   "metadata": {},
   "outputs": [
    {
     "name": "stdout",
     "output_type": "stream",
     "text": [
      "A temperatura é 0.0 Celsius\n"
     ]
    }
   ],
   "source": [
    "\n",
    "tempC = (tempF-32)*(5/9)\n",
    "print(f'A temperatura é {tempC} Celsius')"
   ]
  },
  {
   "cell_type": "markdown",
   "metadata": {},
   "source": [
    "Exercicio 2"
   ]
  },
  {
   "cell_type": "code",
   "execution_count": 10,
   "metadata": {},
   "outputs": [
    {
     "name": "stdout",
     "output_type": "stream",
     "text": [
      "Impar\n"
     ]
    }
   ],
   "source": [
    "num = int(input('Digite um numero'))\n",
    "if num%2 == 0:\n",
    "    print('Par')\n",
    "else:\n",
    "    print('Impar')    "
   ]
  },
  {
   "cell_type": "markdown",
   "metadata": {},
   "source": [
    "Exercicio 3"
   ]
  },
  {
   "cell_type": "code",
   "execution_count": 14,
   "metadata": {},
   "outputs": [
    {
     "name": "stdout",
     "output_type": "stream",
     "text": [
      "Escolha uma opção:\n",
      " 1 - adição \n",
      " 2 - subtração\n",
      "5.0\n"
     ]
    }
   ],
   "source": [
    "num1 = float(input('Digite o primeiro numero'))\n",
    "num2 = float(input('Digite o segundo numero'))\n",
    "\n",
    "escolha = input(print('Escolha uma opção:\\n 1 - adição \\n 2 - subtração'))\n",
    "\n",
    "if escolha == '1':\n",
    "    print(num1+num2)\n",
    "elif escolha =='2':\n",
    "    print(num1-num2)\n",
    "else:\n",
    "    print('Opção invalida')        "
   ]
  },
  {
   "cell_type": "markdown",
   "metadata": {},
   "source": [
    "Exercicio 4"
   ]
  },
  {
   "cell_type": "code",
   "execution_count": 20,
   "metadata": {},
   "outputs": [
    {
     "name": "stdout",
     "output_type": "stream",
     "text": [
      "Reprovado por falta\n"
     ]
    }
   ],
   "source": [
    "nota_bimestre_1 = float(input('Nota do primeiro bimestre'))\n",
    "nota_bimestre_2 = float(input('Nota do segundo bimestre'))\n",
    "nota_bimestre_3 = float(input('Nota do terceiro bimestre'))\n",
    "nota_bimestre_4 = float(input('Nota do quarto bimestre'))\n",
    "numero_total_aulas = int(input('Numero de aulas'))\n",
    "numero_faltas = int(input('Numero de faltas'))\n",
    "\n",
    "percentual_faltas = numero_faltas/numero_total_aulas\n",
    "\n",
    "media = (nota_bimestre_1+nota_bimestre_2+nota_bimestre_3+nota_bimestre_4)/4\n",
    "\n",
    "if media >= 7 and percentual_faltas <= 0.25:\n",
    "    print('Aprovado')\n",
    "elif media >= 7 and percentual_faltas >= 0.25:\n",
    "    print('Reprovado por falta')\n",
    "else:\n",
    "    print('Reprovado por media')    \n",
    "\n",
    "\n",
    "\n"
   ]
  },
  {
   "cell_type": "markdown",
   "metadata": {},
   "source": [
    "Exercicio 5"
   ]
  },
  {
   "cell_type": "code",
   "execution_count": 22,
   "metadata": {},
   "outputs": [
    {
     "name": "stdout",
     "output_type": "stream",
     "text": [
      "Reprovado por media e falta\n"
     ]
    }
   ],
   "source": [
    "nota_bimestre_1 = float(input('Nota do primeiro bimestre'))\n",
    "nota_bimestre_2 = float(input('Nota do segundo bimestre'))\n",
    "nota_bimestre_3 = float(input('Nota do terceiro bimestre'))\n",
    "nota_bimestre_4 = float(input('Nota do quarto bimestre'))\n",
    "numero_total_aulas = int(input('Numero de aulas'))\n",
    "numero_faltas = int(input('Numero de faltas'))\n",
    "\n",
    "percentual_faltas = numero_faltas/numero_total_aulas\n",
    "\n",
    "media = (nota_bimestre_1+nota_bimestre_2+nota_bimestre_3+nota_bimestre_4)/4\n",
    "\n",
    "if media >= 7 and percentual_faltas <= 0.25:\n",
    "    print('Aprovado')\n",
    "elif media >= 5 and percentual_faltas<= 0.25:\n",
    "    print('Em recuperação')\n",
    "elif media <= 5 and percentual_faltas<= 0.25:\n",
    "    print('Reprovado por Media')    \n",
    "elif media >= 7 and percentual_faltas >= 0.25:\n",
    "    print('Reprovado por falta')\n",
    "else:\n",
    "    print('Reprovado por media e falta') "
   ]
  },
  {
   "cell_type": "markdown",
   "metadata": {},
   "source": [
    "Exercicio 6"
   ]
  },
  {
   "cell_type": "code",
   "execution_count": 31,
   "metadata": {},
   "outputs": [
    {
     "name": "stdout",
     "output_type": "stream",
     "text": [
      "29/2/6\n",
      "data invalida i\n"
     ]
    }
   ],
   "source": [
    "# pedindo os dados\n",
    "dia = int(input('Digite o dia'))\n",
    "mes = int(input('Digite o mes'))\n",
    "ano = int(input('Digite o ano'))\n",
    "print(f'{dia}/{mes}/{ano}')\n",
    "\n",
    "# verificando o dia\n",
    "if dia < 1 or dia > 31 or mes <1 or mes >12:\n",
    "    print('dia invalida')\n",
    "    \n",
    "else:\n",
    "    if mes == 4 or mes == 6 or mes == 9 or mes == 11:\n",
    "        if dia >= 1 and dia <= 30:\n",
    "            print('data valida')\n",
    "        else:\n",
    "            print('data invalida')\n",
    "    elif mes == 1 or mes == 3 or mes == 5 or mes == 7 or mes == 8 or mes == 10 or mes == 12:           \n",
    "        if dia >= 1 and dia <= 31:\n",
    "            print('data valida')\n",
    "        else:\n",
    "            print('data invalida')\n",
    "    else:\n",
    "        if ano%4 ==0:\n",
    "            if dia >= 1 and dia <= 29:\n",
    "                print('data valida')\n",
    "            else:\n",
    "                print('data invalida')\n",
    "        else:\n",
    "            if dia >= 1 and dia <= 28:\n",
    "                print('data valida )\n",
    "            else:\n",
    "                print('data invalida')\n"
   ]
  },
  {
   "cell_type": "markdown",
   "metadata": {},
   "source": [
    "Exercicio 7"
   ]
  },
  {
   "cell_type": "code",
   "execution_count": 43,
   "metadata": {},
   "outputs": [
    {
     "name": "stdout",
     "output_type": "stream",
     "text": [
      "2/2/1\n",
      "data valida\n",
      "3/2/1\n"
     ]
    }
   ],
   "source": [
    "# pedindo os dados\n",
    "dia = int(input('Digite o dia'))\n",
    "mes = int(input('Digite o mes'))\n",
    "ano = int(input('Digite o ano'))\n",
    "print(f'{dia}/{mes}/{ano}')\n",
    "\n",
    "# verificando o dia\n",
    "if dia < 1 or dia > 31 or mes <1 or mes >12:\n",
    "    print('dia invalida')\n",
    "    \n",
    "else:\n",
    "    if mes == 4 or mes == 6 or mes == 9 or mes == 11:\n",
    "        if dia >= 1 and dia <= 30:\n",
    "            print('data valida')\n",
    "        else:\n",
    "            print('data invalida')\n",
    "    elif mes == 1 or mes == 3 or mes == 5 or mes == 7 or mes == 8 or mes == 10 or mes == 12:           \n",
    "        if dia >= 1 and dia <= 31:\n",
    "            print('data valida')\n",
    "        else:\n",
    "            print('data invalida')\n",
    "    else:\n",
    "        if ano%4 ==0:\n",
    "            if dia >= 1 and dia <= 29:\n",
    "                print('data valida')\n",
    "            else:\n",
    "                print('data invalida')\n",
    "        else:\n",
    "            if dia >= 1 and dia <= 28:\n",
    "                print('data valida')\n",
    "            else:\n",
    "                print('data invalida')\n",
    "\n",
    "\n",
    "    if mes == 4 or mes == 6 or mes == 9 or mes == 11:\n",
    "        if dia == 30:\n",
    "            mes +=1\n",
    "            dia = 1\n",
    "        else:\n",
    "            dia +=1   \n",
    "    elif mes == 1 or mes == 3 or mes == 5 or mes == 7 or mes == 8 or mes == 10:\n",
    "        if dia == 31:\n",
    "            mes +=1\n",
    "            dia = 1\n",
    "        else:\n",
    "            dia +=1\n",
    "    elif mes == 2:\n",
    "        if ano%4 ==0:\n",
    "            if dia == 29:\n",
    "                mes +=1\n",
    "                dia = 1\n",
    "            else:\n",
    "                dia +=1\n",
    "        else:\n",
    "            if dia == 28:\n",
    "                mes +=1\n",
    "                dia = 1\n",
    "            else:\n",
    "                dia +=1\n",
    "    else:\n",
    "        if dia == 31:\n",
    "            ano +=1\n",
    "            mes = 1\n",
    "            dia = 1\n",
    "        else:\n",
    "            dia +=1    \n",
    "    print(f'{dia}/{mes}/{ano}')    \n"
   ]
  },
  {
   "cell_type": "markdown",
   "metadata": {},
   "source": [
    "Exercicio 8"
   ]
  },
  {
   "cell_type": "code",
   "execution_count": 47,
   "metadata": {},
   "outputs": [
    {
     "name": "stdout",
     "output_type": "stream",
     "text": [
      "primeira nota parcial: 7.5\n",
      "segunda nota parcial: 10.0\n",
      "A media é 8.75\n",
      "O conceito é B\n",
      "APROVADO\n"
     ]
    }
   ],
   "source": [
    "nota_parcial_1 =float(input('Digite a primeira nota parcial'))\n",
    "nota_parcial_2 =float(input('Digite a segunda nota parcial'))\n",
    "conceito = ''\n",
    "media = (nota_parcial_1+nota_parcial_2)/2\n",
    "\n",
    "if media >= 9.0:\n",
    "    conceito = 'A'\n",
    "elif media >=7.5:\n",
    "    conceito = 'B'\n",
    "elif media >=6.0:\n",
    "    conceito = 'C'    \n",
    "elif media >=4.0:\n",
    "    conceito = 'D'\n",
    "else:\n",
    "    conceito = 'E'\n",
    "\n",
    "print(f'primeira nota parcial: {nota_parcial_1}')\n",
    "print(f'segunda nota parcial: {nota_parcial_2}')\n",
    "print(f'A media é {media}')\n",
    "print(f'O conceito é {conceito}')\n",
    "\n",
    "if conceito == 'A' or conceito =='B' or conceito == 'C':\n",
    "    print('APROVADO')\n",
    "else:\n",
    "    print('REPROVADO') \n",
    "\n"
   ]
  },
  {
   "cell_type": "markdown",
   "metadata": {},
   "source": [
    "Exercico 9"
   ]
  },
  {
   "cell_type": "code",
   "execution_count": 53,
   "metadata": {},
   "outputs": [
    {
     "name": "stdout",
     "output_type": "stream",
     "text": [
      "Salario original: 500.0 \n",
      " Percentual de Reajuste: 15.0% \n",
      " Valor do aumento: 75.0\n",
      " Novo salario: 575.0\n"
     ]
    }
   ],
   "source": [
    "salario_original = float(input('Digite o salario original: '))\n",
    "salario_reajuste = 0.0\n",
    "\n",
    "if salario_original >=1500:\n",
    "    salario_reajuste = 0.05\n",
    "elif salario_original >=700:\n",
    "    salario_reajuste = 0.1\n",
    "elif salario_original >=280:\n",
    "    salario_reajuste = 0.15   \n",
    "else:\n",
    "    salario_reajuste = 0.2           \n",
    "\n",
    "print(f'Salario original: {salario_original} \\n Percentual de Reajuste: {salario_reajuste*100}% \\n Valor do aumento: {salario_original*salario_reajuste}\\n Novo salario: {salario_original + salario_original*salario_reajuste}')"
   ]
  }
 ],
 "metadata": {
  "kernelspec": {
   "display_name": "base",
   "language": "python",
   "name": "python3"
  },
  "language_info": {
   "codemirror_mode": {
    "name": "ipython",
    "version": 3
   },
   "file_extension": ".py",
   "mimetype": "text/x-python",
   "name": "python",
   "nbconvert_exporter": "python",
   "pygments_lexer": "ipython3",
   "version": "3.11.7"
  }
 },
 "nbformat": 4,
 "nbformat_minor": 2
}
